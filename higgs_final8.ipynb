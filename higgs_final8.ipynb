{
  "nbformat": 4,
  "nbformat_minor": 0,
  "metadata": {
    "colab": {
      "name": "higgs final8.ipynb",
      "provenance": []
    },
    "kernelspec": {
      "name": "python3",
      "display_name": "Python 3"
    },
    "language_info": {
      "name": "python"
    }
  },
  "cells": [
    {
      "cell_type": "markdown",
      "metadata": {
        "id": "IEa4DDmIESVx"
      },
      "source": [
        "##**Higgs Boson Particle Discovery**\n",
        "\n",
        "\n",
        "\n",
        "\n"
      ]
    },
    {
      "cell_type": "markdown",
      "metadata": {
        "id": "WjOmyeGhEMT1"
      },
      "source": [
        "#### **Problem Statement**\n",
        "- The task is to **classify** whether **signal or background**"
      ]
    },
    {
      "cell_type": "markdown",
      "metadata": {
        "id": "EsRvIX6hPeXJ"
      },
      "source": [
        "#### **Dataset Information:**\n",
        "\n",
        "- **Number of Rows :** 250000\n",
        "\n",
        "- **Number of Columns :** 8"
      ]
    },
    {
      "cell_type": "markdown",
      "metadata": {
        "id": "d3bu6wym2F3C"
      },
      "source": [
        "|Variable          |Description         |\n",
        "|------------------|--------------------|\n",
        "|EventId           |An unique integer identifier of the event|\n",
        "|DER_mass_MMC      |The estimated mass mH of the Higgs boson candidate, obtained through a probabilistic phase space integration.|\n",
        "|DER_mass_transverse_met_lep |The transverse mass between the missing transverse energy and the lepton|\n",
        "|DER_mass_vis      |The invariant mass of the hadronic tau and the lepton.|\n",
        "|DER_pt_h          |The modulus of the vector sum of the transverse momentum of the hadronic tau, the lepton and the missing transverse energy vector.|\n",
        "|DER_deltaeta_jet_jet|The absolute value of the pseudorapidity separation between the two jets (undefined if PRI_jet_num ≤ 1).|\n",
        "|DER_mass_jet_jet |The invariant mass of the two jets (undefined if PRI_jet_num ≤ 1).|\n",
        "|DER_prodeta_jet_jet\t|The product of the pseudorapidities of the two jets (undefined if PRI_jet_num ≤ 1).|\n",
        "|Weight\t|The event weight wi|\n",
        "|Label\t|The event label (string) yi ∈ {s,b} (**s** for **signal**, **b** for **background**)."
      ]
    },
    {
      "cell_type": "markdown",
      "metadata": {
        "id": "m8zObiLXJBRu"
      },
      "source": [
        "- The data consists of simulated signal and background events in a **8 dimensional features**\n",
        "space.\n",
        "\n",
        "- **Each event** data point is assigned an **ID and a weight** as explained before. The 8\n",
        "features consisted of real values and included different kinematic properties of that event\n",
        "and the particles involved including estimated particle **mass, invariant mass of hadronic\n",
        "tau and lepton, vector sum of the transverse momentum of hadronic tau, centrality of\n",
        "azimuthal angle, pseudo-rapidity of the leptons, the number of jets** and their properties,\n",
        "etc.\n",
        "\n",
        "- The **training** data consisted of **250,000** eventsEach event of training data was\n",
        "marked by one of **two labels; 's' for signal and 'b' for background.** The task was to submit\n",
        "a file consisting of 's' and 'b' predictions for each point in the test set.\n",
        "\n",
        "- **Values** of **some feature** were **invalid** for some of the events; those features or properties\n",
        "were **missing** in those events. Such values were **marked -999.0** which was quite out of\n",
        "the range of other normal feature values.\n",
        "\n",
        "- Because of different behaviors of the four physical processes, **some features do\n",
        "not exist**, this leads to some **missing values** indicated by **-999** in the data.\n",
        "\n",
        "- As mentioned earlier, some of the feature values were **invalid** for some\n",
        "events and were hence **marked -999.0.** It was observed that the there were a **total of 6\n",
        "different possible combinations** of events that had one or more of the features marked\n",
        "invalid. The **invalid features could altogether be eliminated** when the events with the\n",
        "same configuration of invalid features were considered as independent training sets. This\n",
        "gave rise to 6 mini-training sets which could be trained independently. "
      ]
    },
    {
      "cell_type": "code",
      "metadata": {
        "id": "bCjD8UDD0oPJ"
      },
      "source": [
        "import numpy as np \n",
        "import pandas as pd \n",
        "import matplotlib.pyplot as plt\n",
        "from matplotlib import rcParams\n",
        "import seaborn as sb\n",
        "from collections import Counter\n",
        "import warnings\n",
        "import matplotlib.pyplot as plt\n",
        "from sklearn import preprocessing\n",
        "from sklearn.feature_selection import SelectKBest\n",
        "from sklearn.feature_selection import chi2\n",
        "from sklearn.preprocessing import StandardScaler\n",
        "from sklearn.naive_bayes import GaussianNB\n",
        "from sklearn.svm import SVC\n",
        "from sklearn import model_selection\n",
        "from sklearn.tree import DecisionTreeRegressor\n",
        "from sklearn.tree import DecisionTreeClassifier\n",
        "from sklearn.preprocessing import LabelEncoder,normalize,MinMaxScaler\n",
        "from sklearn.metrics import f1_score\n",
        "from sklearn.model_selection import cross_val_score\n",
        "from sklearn.metrics import confusion_matrix,roc_auc_score,roc_curve\n",
        "import seaborn as sns\n",
        "from sklearn.model_selection import StratifiedShuffleSplit"
      ],
      "execution_count": 1,
      "outputs": []
    },
    {
      "cell_type": "code",
      "metadata": {
        "id": "jF5LamZk0_i6"
      },
      "source": [
        "#Importing Libraries\n",
        "import matplotlib.pyplot as plt\n",
        "from sklearn import preprocessing\n",
        "from sklearn.feature_selection import SelectKBest\n",
        "from sklearn.feature_selection import chi2\n",
        "from sklearn.preprocessing import StandardScaler\n",
        "from sklearn.naive_bayes import GaussianNB\n",
        "from sklearn.svm import SVC\n",
        "from sklearn import model_selection\n",
        "from sklearn.tree import DecisionTreeRegressor\n",
        "from sklearn.tree import DecisionTreeClassifier\n",
        "from sklearn.preprocessing import LabelEncoder,normalize,MinMaxScaler\n",
        "from sklearn.metrics import f1_score\n",
        "from sklearn.model_selection import cross_val_score\n",
        "from sklearn.metrics import confusion_matrix,roc_auc_score,roc_curve\n",
        "import seaborn as sns\n",
        "\n",
        "\n",
        "import tensorflow as tf"
      ],
      "execution_count": 2,
      "outputs": []
    },
    {
      "cell_type": "markdown",
      "metadata": {
        "id": "BIihRQbxW1sD"
      },
      "source": [
        "##**Loading Data**"
      ]
    },
    {
      "cell_type": "code",
      "metadata": {
        "id": "KyYgTcw31G1L"
      },
      "source": [
        "data = pd.read_csv('/content/drive/MyDrive/Mobile invoice/Dataset.csv', delimiter=',')"
      ],
      "execution_count": 3,
      "outputs": []
    },
    {
      "cell_type": "code",
      "metadata": {
        "colab": {
          "base_uri": "https://localhost:8080/"
        },
        "id": "FIMtCYh-1Q96",
        "outputId": "b826618c-05b5-4250-fa0c-8a1247a06c29"
      },
      "source": [
        "data.shape\n"
      ],
      "execution_count": 4,
      "outputs": [
        {
          "output_type": "execute_result",
          "data": {
            "text/plain": [
              "(250000, 33)"
            ]
          },
          "metadata": {},
          "execution_count": 4
        }
      ]
    },
    {
      "cell_type": "code",
      "metadata": {
        "colab": {
          "base_uri": "https://localhost:8080/",
          "height": 226
        },
        "id": "rcjJ_yEx1XcJ",
        "outputId": "82c90d83-4705-4ec1-ecd3-7de97fd22e53"
      },
      "source": [
        "data_new=data.drop([\"Weight\"], axis=1)\n",
        "data_new.head()"
      ],
      "execution_count": 5,
      "outputs": [
        {
          "output_type": "execute_result",
          "data": {
            "text/html": [
              "<div>\n",
              "<style scoped>\n",
              "    .dataframe tbody tr th:only-of-type {\n",
              "        vertical-align: middle;\n",
              "    }\n",
              "\n",
              "    .dataframe tbody tr th {\n",
              "        vertical-align: top;\n",
              "    }\n",
              "\n",
              "    .dataframe thead th {\n",
              "        text-align: right;\n",
              "    }\n",
              "</style>\n",
              "<table border=\"1\" class=\"dataframe\">\n",
              "  <thead>\n",
              "    <tr style=\"text-align: right;\">\n",
              "      <th></th>\n",
              "      <th>EventId</th>\n",
              "      <th>DER_mass_MMC</th>\n",
              "      <th>DER_mass_transverse_met_lep</th>\n",
              "      <th>DER_mass_vis</th>\n",
              "      <th>DER_pt_h</th>\n",
              "      <th>DER_deltaeta_jet_jet</th>\n",
              "      <th>DER_mass_jet_jet</th>\n",
              "      <th>DER_prodeta_jet_jet</th>\n",
              "      <th>DER_deltar_tau_lep</th>\n",
              "      <th>DER_pt_tot</th>\n",
              "      <th>DER_sum_pt</th>\n",
              "      <th>DER_pt_ratio_lep_tau</th>\n",
              "      <th>DER_met_phi_centrality</th>\n",
              "      <th>DER_lep_eta_centrality</th>\n",
              "      <th>PRI_tau_pt</th>\n",
              "      <th>PRI_tau_eta</th>\n",
              "      <th>PRI_tau_phi</th>\n",
              "      <th>PRI_lep_pt</th>\n",
              "      <th>PRI_lep_eta</th>\n",
              "      <th>PRI_lep_phi</th>\n",
              "      <th>PRI_met</th>\n",
              "      <th>PRI_met_phi</th>\n",
              "      <th>PRI_met_sumet</th>\n",
              "      <th>PRI_jet_num</th>\n",
              "      <th>PRI_jet_leading_pt</th>\n",
              "      <th>PRI_jet_leading_eta</th>\n",
              "      <th>PRI_jet_leading_phi</th>\n",
              "      <th>PRI_jet_subleading_pt</th>\n",
              "      <th>PRI_jet_subleading_eta</th>\n",
              "      <th>PRI_jet_subleading_phi</th>\n",
              "      <th>PRI_jet_all_pt</th>\n",
              "      <th>Label</th>\n",
              "    </tr>\n",
              "  </thead>\n",
              "  <tbody>\n",
              "    <tr>\n",
              "      <th>0</th>\n",
              "      <td>100000</td>\n",
              "      <td>138.470</td>\n",
              "      <td>51.655</td>\n",
              "      <td>97.827</td>\n",
              "      <td>27.980</td>\n",
              "      <td>0.91</td>\n",
              "      <td>124.711</td>\n",
              "      <td>2.666</td>\n",
              "      <td>3.064</td>\n",
              "      <td>41.928</td>\n",
              "      <td>197.760</td>\n",
              "      <td>1.582</td>\n",
              "      <td>1.396</td>\n",
              "      <td>0.2</td>\n",
              "      <td>32.638</td>\n",
              "      <td>1.017</td>\n",
              "      <td>0.381</td>\n",
              "      <td>51.626</td>\n",
              "      <td>2.273</td>\n",
              "      <td>-2.414</td>\n",
              "      <td>16.824</td>\n",
              "      <td>-0.277</td>\n",
              "      <td>258.733</td>\n",
              "      <td>2</td>\n",
              "      <td>67.435</td>\n",
              "      <td>2.150</td>\n",
              "      <td>0.444</td>\n",
              "      <td>46.062</td>\n",
              "      <td>1.24</td>\n",
              "      <td>-2.475</td>\n",
              "      <td>113.497</td>\n",
              "      <td>s</td>\n",
              "    </tr>\n",
              "    <tr>\n",
              "      <th>1</th>\n",
              "      <td>100001</td>\n",
              "      <td>160.937</td>\n",
              "      <td>68.768</td>\n",
              "      <td>103.235</td>\n",
              "      <td>48.146</td>\n",
              "      <td>-999.00</td>\n",
              "      <td>-999.000</td>\n",
              "      <td>-999.000</td>\n",
              "      <td>3.473</td>\n",
              "      <td>2.078</td>\n",
              "      <td>125.157</td>\n",
              "      <td>0.879</td>\n",
              "      <td>1.414</td>\n",
              "      <td>-999.0</td>\n",
              "      <td>42.014</td>\n",
              "      <td>2.039</td>\n",
              "      <td>-3.011</td>\n",
              "      <td>36.918</td>\n",
              "      <td>0.501</td>\n",
              "      <td>0.103</td>\n",
              "      <td>44.704</td>\n",
              "      <td>-1.916</td>\n",
              "      <td>164.546</td>\n",
              "      <td>1</td>\n",
              "      <td>46.226</td>\n",
              "      <td>0.725</td>\n",
              "      <td>1.158</td>\n",
              "      <td>-999.000</td>\n",
              "      <td>-999.00</td>\n",
              "      <td>-999.000</td>\n",
              "      <td>46.226</td>\n",
              "      <td>b</td>\n",
              "    </tr>\n",
              "    <tr>\n",
              "      <th>2</th>\n",
              "      <td>100002</td>\n",
              "      <td>-999.000</td>\n",
              "      <td>162.172</td>\n",
              "      <td>125.953</td>\n",
              "      <td>35.635</td>\n",
              "      <td>-999.00</td>\n",
              "      <td>-999.000</td>\n",
              "      <td>-999.000</td>\n",
              "      <td>3.148</td>\n",
              "      <td>9.336</td>\n",
              "      <td>197.814</td>\n",
              "      <td>3.776</td>\n",
              "      <td>1.414</td>\n",
              "      <td>-999.0</td>\n",
              "      <td>32.154</td>\n",
              "      <td>-0.705</td>\n",
              "      <td>-2.093</td>\n",
              "      <td>121.409</td>\n",
              "      <td>-0.953</td>\n",
              "      <td>1.052</td>\n",
              "      <td>54.283</td>\n",
              "      <td>-2.186</td>\n",
              "      <td>260.414</td>\n",
              "      <td>1</td>\n",
              "      <td>44.251</td>\n",
              "      <td>2.053</td>\n",
              "      <td>-2.028</td>\n",
              "      <td>-999.000</td>\n",
              "      <td>-999.00</td>\n",
              "      <td>-999.000</td>\n",
              "      <td>44.251</td>\n",
              "      <td>b</td>\n",
              "    </tr>\n",
              "    <tr>\n",
              "      <th>3</th>\n",
              "      <td>100003</td>\n",
              "      <td>143.905</td>\n",
              "      <td>81.417</td>\n",
              "      <td>80.943</td>\n",
              "      <td>0.414</td>\n",
              "      <td>-999.00</td>\n",
              "      <td>-999.000</td>\n",
              "      <td>-999.000</td>\n",
              "      <td>3.310</td>\n",
              "      <td>0.414</td>\n",
              "      <td>75.968</td>\n",
              "      <td>2.354</td>\n",
              "      <td>-1.285</td>\n",
              "      <td>-999.0</td>\n",
              "      <td>22.647</td>\n",
              "      <td>-1.655</td>\n",
              "      <td>0.010</td>\n",
              "      <td>53.321</td>\n",
              "      <td>-0.522</td>\n",
              "      <td>-3.100</td>\n",
              "      <td>31.082</td>\n",
              "      <td>0.060</td>\n",
              "      <td>86.062</td>\n",
              "      <td>0</td>\n",
              "      <td>-999.000</td>\n",
              "      <td>-999.000</td>\n",
              "      <td>-999.000</td>\n",
              "      <td>-999.000</td>\n",
              "      <td>-999.00</td>\n",
              "      <td>-999.000</td>\n",
              "      <td>-0.000</td>\n",
              "      <td>b</td>\n",
              "    </tr>\n",
              "    <tr>\n",
              "      <th>4</th>\n",
              "      <td>100004</td>\n",
              "      <td>175.864</td>\n",
              "      <td>16.915</td>\n",
              "      <td>134.805</td>\n",
              "      <td>16.405</td>\n",
              "      <td>-999.00</td>\n",
              "      <td>-999.000</td>\n",
              "      <td>-999.000</td>\n",
              "      <td>3.891</td>\n",
              "      <td>16.405</td>\n",
              "      <td>57.983</td>\n",
              "      <td>1.056</td>\n",
              "      <td>-1.385</td>\n",
              "      <td>-999.0</td>\n",
              "      <td>28.209</td>\n",
              "      <td>-2.197</td>\n",
              "      <td>-2.231</td>\n",
              "      <td>29.774</td>\n",
              "      <td>0.798</td>\n",
              "      <td>1.569</td>\n",
              "      <td>2.723</td>\n",
              "      <td>-0.871</td>\n",
              "      <td>53.131</td>\n",
              "      <td>0</td>\n",
              "      <td>-999.000</td>\n",
              "      <td>-999.000</td>\n",
              "      <td>-999.000</td>\n",
              "      <td>-999.000</td>\n",
              "      <td>-999.00</td>\n",
              "      <td>-999.000</td>\n",
              "      <td>0.000</td>\n",
              "      <td>b</td>\n",
              "    </tr>\n",
              "  </tbody>\n",
              "</table>\n",
              "</div>"
            ],
            "text/plain": [
              "   EventId  DER_mass_MMC  ...  PRI_jet_all_pt  Label\n",
              "0   100000       138.470  ...         113.497      s\n",
              "1   100001       160.937  ...          46.226      b\n",
              "2   100002      -999.000  ...          44.251      b\n",
              "3   100003       143.905  ...          -0.000      b\n",
              "4   100004       175.864  ...           0.000      b\n",
              "\n",
              "[5 rows x 32 columns]"
            ]
          },
          "metadata": {},
          "execution_count": 5
        }
      ]
    },
    {
      "cell_type": "code",
      "metadata": {
        "id": "UYkvd2gE1fGU"
      },
      "source": [
        "data_new= data_new[['DER_mass_MMC','DER_mass_transverse_met_lep','DER_mass_vis',\n",
        "       'DER_pt_h', 'DER_deltaeta_jet_jet', 'DER_mass_jet_jet',\n",
        "       'DER_prodeta_jet_jet','Label']]"
      ],
      "execution_count": 6,
      "outputs": []
    },
    {
      "cell_type": "code",
      "metadata": {
        "colab": {
          "base_uri": "https://localhost:8080/",
          "height": 423
        },
        "id": "UFrv9zLy1jMw",
        "outputId": "f9e48cb9-c6f3-4ff3-a787-d1e8490d03ca"
      },
      "source": [
        "data_new\n"
      ],
      "execution_count": 7,
      "outputs": [
        {
          "output_type": "execute_result",
          "data": {
            "text/html": [
              "<div>\n",
              "<style scoped>\n",
              "    .dataframe tbody tr th:only-of-type {\n",
              "        vertical-align: middle;\n",
              "    }\n",
              "\n",
              "    .dataframe tbody tr th {\n",
              "        vertical-align: top;\n",
              "    }\n",
              "\n",
              "    .dataframe thead th {\n",
              "        text-align: right;\n",
              "    }\n",
              "</style>\n",
              "<table border=\"1\" class=\"dataframe\">\n",
              "  <thead>\n",
              "    <tr style=\"text-align: right;\">\n",
              "      <th></th>\n",
              "      <th>DER_mass_MMC</th>\n",
              "      <th>DER_mass_transverse_met_lep</th>\n",
              "      <th>DER_mass_vis</th>\n",
              "      <th>DER_pt_h</th>\n",
              "      <th>DER_deltaeta_jet_jet</th>\n",
              "      <th>DER_mass_jet_jet</th>\n",
              "      <th>DER_prodeta_jet_jet</th>\n",
              "      <th>Label</th>\n",
              "    </tr>\n",
              "  </thead>\n",
              "  <tbody>\n",
              "    <tr>\n",
              "      <th>0</th>\n",
              "      <td>138.470</td>\n",
              "      <td>51.655</td>\n",
              "      <td>97.827</td>\n",
              "      <td>27.980</td>\n",
              "      <td>0.91</td>\n",
              "      <td>124.711</td>\n",
              "      <td>2.666</td>\n",
              "      <td>s</td>\n",
              "    </tr>\n",
              "    <tr>\n",
              "      <th>1</th>\n",
              "      <td>160.937</td>\n",
              "      <td>68.768</td>\n",
              "      <td>103.235</td>\n",
              "      <td>48.146</td>\n",
              "      <td>-999.00</td>\n",
              "      <td>-999.000</td>\n",
              "      <td>-999.000</td>\n",
              "      <td>b</td>\n",
              "    </tr>\n",
              "    <tr>\n",
              "      <th>2</th>\n",
              "      <td>-999.000</td>\n",
              "      <td>162.172</td>\n",
              "      <td>125.953</td>\n",
              "      <td>35.635</td>\n",
              "      <td>-999.00</td>\n",
              "      <td>-999.000</td>\n",
              "      <td>-999.000</td>\n",
              "      <td>b</td>\n",
              "    </tr>\n",
              "    <tr>\n",
              "      <th>3</th>\n",
              "      <td>143.905</td>\n",
              "      <td>81.417</td>\n",
              "      <td>80.943</td>\n",
              "      <td>0.414</td>\n",
              "      <td>-999.00</td>\n",
              "      <td>-999.000</td>\n",
              "      <td>-999.000</td>\n",
              "      <td>b</td>\n",
              "    </tr>\n",
              "    <tr>\n",
              "      <th>4</th>\n",
              "      <td>175.864</td>\n",
              "      <td>16.915</td>\n",
              "      <td>134.805</td>\n",
              "      <td>16.405</td>\n",
              "      <td>-999.00</td>\n",
              "      <td>-999.000</td>\n",
              "      <td>-999.000</td>\n",
              "      <td>b</td>\n",
              "    </tr>\n",
              "    <tr>\n",
              "      <th>...</th>\n",
              "      <td>...</td>\n",
              "      <td>...</td>\n",
              "      <td>...</td>\n",
              "      <td>...</td>\n",
              "      <td>...</td>\n",
              "      <td>...</td>\n",
              "      <td>...</td>\n",
              "      <td>...</td>\n",
              "    </tr>\n",
              "    <tr>\n",
              "      <th>249995</th>\n",
              "      <td>-999.000</td>\n",
              "      <td>71.989</td>\n",
              "      <td>36.548</td>\n",
              "      <td>5.042</td>\n",
              "      <td>-999.00</td>\n",
              "      <td>-999.000</td>\n",
              "      <td>-999.000</td>\n",
              "      <td>b</td>\n",
              "    </tr>\n",
              "    <tr>\n",
              "      <th>249996</th>\n",
              "      <td>-999.000</td>\n",
              "      <td>58.179</td>\n",
              "      <td>68.083</td>\n",
              "      <td>22.439</td>\n",
              "      <td>-999.00</td>\n",
              "      <td>-999.000</td>\n",
              "      <td>-999.000</td>\n",
              "      <td>b</td>\n",
              "    </tr>\n",
              "    <tr>\n",
              "      <th>249997</th>\n",
              "      <td>105.457</td>\n",
              "      <td>60.526</td>\n",
              "      <td>75.839</td>\n",
              "      <td>39.757</td>\n",
              "      <td>-999.00</td>\n",
              "      <td>-999.000</td>\n",
              "      <td>-999.000</td>\n",
              "      <td>s</td>\n",
              "    </tr>\n",
              "    <tr>\n",
              "      <th>249998</th>\n",
              "      <td>94.951</td>\n",
              "      <td>19.362</td>\n",
              "      <td>68.812</td>\n",
              "      <td>13.504</td>\n",
              "      <td>-999.00</td>\n",
              "      <td>-999.000</td>\n",
              "      <td>-999.000</td>\n",
              "      <td>b</td>\n",
              "    </tr>\n",
              "    <tr>\n",
              "      <th>249999</th>\n",
              "      <td>-999.000</td>\n",
              "      <td>72.756</td>\n",
              "      <td>70.831</td>\n",
              "      <td>7.479</td>\n",
              "      <td>-999.00</td>\n",
              "      <td>-999.000</td>\n",
              "      <td>-999.000</td>\n",
              "      <td>b</td>\n",
              "    </tr>\n",
              "  </tbody>\n",
              "</table>\n",
              "<p>250000 rows × 8 columns</p>\n",
              "</div>"
            ],
            "text/plain": [
              "        DER_mass_MMC  DER_mass_transverse_met_lep  ...  DER_prodeta_jet_jet  Label\n",
              "0            138.470                       51.655  ...                2.666      s\n",
              "1            160.937                       68.768  ...             -999.000      b\n",
              "2           -999.000                      162.172  ...             -999.000      b\n",
              "3            143.905                       81.417  ...             -999.000      b\n",
              "4            175.864                       16.915  ...             -999.000      b\n",
              "...              ...                          ...  ...                  ...    ...\n",
              "249995      -999.000                       71.989  ...             -999.000      b\n",
              "249996      -999.000                       58.179  ...             -999.000      b\n",
              "249997       105.457                       60.526  ...             -999.000      s\n",
              "249998        94.951                       19.362  ...             -999.000      b\n",
              "249999      -999.000                       72.756  ...             -999.000      b\n",
              "\n",
              "[250000 rows x 8 columns]"
            ]
          },
          "metadata": {},
          "execution_count": 7
        }
      ]
    },
    {
      "cell_type": "markdown",
      "metadata": {
        "id": "kFJyMVtkWUa4"
      },
      "source": [
        "##**EDA (Exploratory Data Analysis)**"
      ]
    },
    {
      "cell_type": "code",
      "metadata": {
        "colab": {
          "base_uri": "https://localhost:8080/",
          "height": 300
        },
        "id": "TUyrc7nf1ne7",
        "outputId": "161279de-0ffe-4323-be8d-0bca3f181743"
      },
      "source": [
        "data_new.describe()\n"
      ],
      "execution_count": 8,
      "outputs": [
        {
          "output_type": "execute_result",
          "data": {
            "text/html": [
              "<div>\n",
              "<style scoped>\n",
              "    .dataframe tbody tr th:only-of-type {\n",
              "        vertical-align: middle;\n",
              "    }\n",
              "\n",
              "    .dataframe tbody tr th {\n",
              "        vertical-align: top;\n",
              "    }\n",
              "\n",
              "    .dataframe thead th {\n",
              "        text-align: right;\n",
              "    }\n",
              "</style>\n",
              "<table border=\"1\" class=\"dataframe\">\n",
              "  <thead>\n",
              "    <tr style=\"text-align: right;\">\n",
              "      <th></th>\n",
              "      <th>DER_mass_MMC</th>\n",
              "      <th>DER_mass_transverse_met_lep</th>\n",
              "      <th>DER_mass_vis</th>\n",
              "      <th>DER_pt_h</th>\n",
              "      <th>DER_deltaeta_jet_jet</th>\n",
              "      <th>DER_mass_jet_jet</th>\n",
              "      <th>DER_prodeta_jet_jet</th>\n",
              "    </tr>\n",
              "  </thead>\n",
              "  <tbody>\n",
              "    <tr>\n",
              "      <th>count</th>\n",
              "      <td>250000.000000</td>\n",
              "      <td>250000.000000</td>\n",
              "      <td>250000.000000</td>\n",
              "      <td>250000.000000</td>\n",
              "      <td>250000.000000</td>\n",
              "      <td>250000.000000</td>\n",
              "      <td>250000.000000</td>\n",
              "    </tr>\n",
              "    <tr>\n",
              "      <th>mean</th>\n",
              "      <td>-49.023079</td>\n",
              "      <td>49.239819</td>\n",
              "      <td>81.181982</td>\n",
              "      <td>57.895962</td>\n",
              "      <td>-708.420675</td>\n",
              "      <td>-601.237051</td>\n",
              "      <td>-709.356603</td>\n",
              "    </tr>\n",
              "    <tr>\n",
              "      <th>std</th>\n",
              "      <td>406.345647</td>\n",
              "      <td>35.344886</td>\n",
              "      <td>40.828691</td>\n",
              "      <td>63.655682</td>\n",
              "      <td>454.480565</td>\n",
              "      <td>657.972302</td>\n",
              "      <td>453.019877</td>\n",
              "    </tr>\n",
              "    <tr>\n",
              "      <th>min</th>\n",
              "      <td>-999.000000</td>\n",
              "      <td>0.000000</td>\n",
              "      <td>6.329000</td>\n",
              "      <td>0.000000</td>\n",
              "      <td>-999.000000</td>\n",
              "      <td>-999.000000</td>\n",
              "      <td>-999.000000</td>\n",
              "    </tr>\n",
              "    <tr>\n",
              "      <th>25%</th>\n",
              "      <td>78.100750</td>\n",
              "      <td>19.241000</td>\n",
              "      <td>59.388750</td>\n",
              "      <td>14.068750</td>\n",
              "      <td>-999.000000</td>\n",
              "      <td>-999.000000</td>\n",
              "      <td>-999.000000</td>\n",
              "    </tr>\n",
              "    <tr>\n",
              "      <th>50%</th>\n",
              "      <td>105.012000</td>\n",
              "      <td>46.524000</td>\n",
              "      <td>73.752000</td>\n",
              "      <td>38.467500</td>\n",
              "      <td>-999.000000</td>\n",
              "      <td>-999.000000</td>\n",
              "      <td>-999.000000</td>\n",
              "    </tr>\n",
              "    <tr>\n",
              "      <th>75%</th>\n",
              "      <td>130.606250</td>\n",
              "      <td>73.598000</td>\n",
              "      <td>92.259000</td>\n",
              "      <td>79.169000</td>\n",
              "      <td>0.490000</td>\n",
              "      <td>83.446000</td>\n",
              "      <td>-4.593000</td>\n",
              "    </tr>\n",
              "    <tr>\n",
              "      <th>max</th>\n",
              "      <td>1192.026000</td>\n",
              "      <td>690.075000</td>\n",
              "      <td>1349.351000</td>\n",
              "      <td>2834.999000</td>\n",
              "      <td>8.503000</td>\n",
              "      <td>4974.979000</td>\n",
              "      <td>16.690000</td>\n",
              "    </tr>\n",
              "  </tbody>\n",
              "</table>\n",
              "</div>"
            ],
            "text/plain": [
              "        DER_mass_MMC  ...  DER_prodeta_jet_jet\n",
              "count  250000.000000  ...        250000.000000\n",
              "mean      -49.023079  ...          -709.356603\n",
              "std       406.345647  ...           453.019877\n",
              "min      -999.000000  ...          -999.000000\n",
              "25%        78.100750  ...          -999.000000\n",
              "50%       105.012000  ...          -999.000000\n",
              "75%       130.606250  ...            -4.593000\n",
              "max      1192.026000  ...            16.690000\n",
              "\n",
              "[8 rows x 7 columns]"
            ]
          },
          "metadata": {},
          "execution_count": 8
        }
      ]
    },
    {
      "cell_type": "code",
      "metadata": {
        "colab": {
          "base_uri": "https://localhost:8080/"
        },
        "id": "mOpZsZd-1sNb",
        "outputId": "1b736115-a178-4d1e-8c3d-aabfa2944474"
      },
      "source": [
        "data_new.info()\n"
      ],
      "execution_count": 9,
      "outputs": [
        {
          "output_type": "stream",
          "name": "stdout",
          "text": [
            "<class 'pandas.core.frame.DataFrame'>\n",
            "RangeIndex: 250000 entries, 0 to 249999\n",
            "Data columns (total 8 columns):\n",
            " #   Column                       Non-Null Count   Dtype  \n",
            "---  ------                       --------------   -----  \n",
            " 0   DER_mass_MMC                 250000 non-null  float64\n",
            " 1   DER_mass_transverse_met_lep  250000 non-null  float64\n",
            " 2   DER_mass_vis                 250000 non-null  float64\n",
            " 3   DER_pt_h                     250000 non-null  float64\n",
            " 4   DER_deltaeta_jet_jet         250000 non-null  float64\n",
            " 5   DER_mass_jet_jet             250000 non-null  float64\n",
            " 6   DER_prodeta_jet_jet          250000 non-null  float64\n",
            " 7   Label                        250000 non-null  object \n",
            "dtypes: float64(7), object(1)\n",
            "memory usage: 15.3+ MB\n"
          ]
        }
      ]
    },
    {
      "cell_type": "code",
      "metadata": {
        "colab": {
          "base_uri": "https://localhost:8080/",
          "height": 551
        },
        "id": "GgLoZP5N19uK",
        "outputId": "93bbadae-835f-413f-cd8a-352f0b9269cc"
      },
      "source": [
        "fig,axes=plt.subplots(figsize=(10,8))\n",
        "print(data_new['Label'].value_counts())\n",
        "sns.barplot(x = data_new['Label'].value_counts().index, y = data_new['Label'].value_counts().values)\n",
        "plt.title('Counts of label')\n",
        "plt.show()\n"
      ],
      "execution_count": 10,
      "outputs": [
        {
          "output_type": "stream",
          "name": "stdout",
          "text": [
            "b    164333\n",
            "s     85667\n",
            "Name: Label, dtype: int64\n"
          ]
        },
        {
          "output_type": "display_data",
          "data": {
            "image/png": "[encoded data removed]",
            "text/plain": [
              "<Figure size 720x576 with 1 Axes>"
            ]
          },
          "metadata": {
            "needs_background": "light"
          }
        }
      ]
    },
    {
      "cell_type": "code",
      "metadata": {
        "colab": {
          "base_uri": "https://localhost:8080/",
          "height": 206
        },
        "id": "fZi6pc_Y2FwE",
        "outputId": "7a6d5bc1-39a1-48b5-9033-470cb6d1f444"
      },
      "source": [
        "# Encoding the labels\n",
        "label_data = preprocessing.LabelEncoder()\n",
        "data_new['Label'] = label_data.fit_transform(data_new['Label'])\n",
        "data_new.head()"
      ],
      "execution_count": 11,
      "outputs": [
        {
          "output_type": "execute_result",
          "data": {
            "text/html": [
              "<div>\n",
              "<style scoped>\n",
              "    .dataframe tbody tr th:only-of-type {\n",
              "        vertical-align: middle;\n",
              "    }\n",
              "\n",
              "    .dataframe tbody tr th {\n",
              "        vertical-align: top;\n",
              "    }\n",
              "\n",
              "    .dataframe thead th {\n",
              "        text-align: right;\n",
              "    }\n",
              "</style>\n",
              "<table border=\"1\" class=\"dataframe\">\n",
              "  <thead>\n",
              "    <tr style=\"text-align: right;\">\n",
              "      <th></th>\n",
              "      <th>DER_mass_MMC</th>\n",
              "      <th>DER_mass_transverse_met_lep</th>\n",
              "      <th>DER_mass_vis</th>\n",
              "      <th>DER_pt_h</th>\n",
              "      <th>DER_deltaeta_jet_jet</th>\n",
              "      <th>DER_mass_jet_jet</th>\n",
              "      <th>DER_prodeta_jet_jet</th>\n",
              "      <th>Label</th>\n",
              "    </tr>\n",
              "  </thead>\n",
              "  <tbody>\n",
              "    <tr>\n",
              "      <th>0</th>\n",
              "      <td>138.470</td>\n",
              "      <td>51.655</td>\n",
              "      <td>97.827</td>\n",
              "      <td>27.980</td>\n",
              "      <td>0.91</td>\n",
              "      <td>124.711</td>\n",
              "      <td>2.666</td>\n",
              "      <td>1</td>\n",
              "    </tr>\n",
              "    <tr>\n",
              "      <th>1</th>\n",
              "      <td>160.937</td>\n",
              "      <td>68.768</td>\n",
              "      <td>103.235</td>\n",
              "      <td>48.146</td>\n",
              "      <td>-999.00</td>\n",
              "      <td>-999.000</td>\n",
              "      <td>-999.000</td>\n",
              "      <td>0</td>\n",
              "    </tr>\n",
              "    <tr>\n",
              "      <th>2</th>\n",
              "      <td>-999.000</td>\n",
              "      <td>162.172</td>\n",
              "      <td>125.953</td>\n",
              "      <td>35.635</td>\n",
              "      <td>-999.00</td>\n",
              "      <td>-999.000</td>\n",
              "      <td>-999.000</td>\n",
              "      <td>0</td>\n",
              "    </tr>\n",
              "    <tr>\n",
              "      <th>3</th>\n",
              "      <td>143.905</td>\n",
              "      <td>81.417</td>\n",
              "      <td>80.943</td>\n",
              "      <td>0.414</td>\n",
              "      <td>-999.00</td>\n",
              "      <td>-999.000</td>\n",
              "      <td>-999.000</td>\n",
              "      <td>0</td>\n",
              "    </tr>\n",
              "    <tr>\n",
              "      <th>4</th>\n",
              "      <td>175.864</td>\n",
              "      <td>16.915</td>\n",
              "      <td>134.805</td>\n",
              "      <td>16.405</td>\n",
              "      <td>-999.00</td>\n",
              "      <td>-999.000</td>\n",
              "      <td>-999.000</td>\n",
              "      <td>0</td>\n",
              "    </tr>\n",
              "  </tbody>\n",
              "</table>\n",
              "</div>"
            ],
            "text/plain": [
              "   DER_mass_MMC  DER_mass_transverse_met_lep  ...  DER_prodeta_jet_jet  Label\n",
              "0       138.470                       51.655  ...                2.666      1\n",
              "1       160.937                       68.768  ...             -999.000      0\n",
              "2      -999.000                      162.172  ...             -999.000      0\n",
              "3       143.905                       81.417  ...             -999.000      0\n",
              "4       175.864                       16.915  ...             -999.000      0\n",
              "\n",
              "[5 rows x 8 columns]"
            ]
          },
          "metadata": {},
          "execution_count": 11
        }
      ]
    },
    {
      "cell_type": "markdown",
      "metadata": {
        "id": "-lRicQR9XpG6"
      },
      "source": [
        "##**Data visualization**"
      ]
    },
    {
      "cell_type": "code",
      "metadata": {
        "colab": {
          "base_uri": "https://localhost:8080/",
          "height": 377
        },
        "id": "mXydBTqE21-_",
        "outputId": "1f13e68f-7cb5-4371-a8b2-f0b5cc6e19da"
      },
      "source": [
        "corr = data_new.corr()\n",
        "ax = sns.heatmap(\n",
        "    corr, \n",
        "    vmin=-1, vmax=1, center=0,\n",
        "    cmap=sns.diverging_palette(20, 230, n=10),\n",
        "    square=True\n",
        ")\n",
        "ax.set_xticklabels(\n",
        "    ax.get_xticklabels(),\n",
        "    rotation=45,\n",
        "    horizontalalignment='right'\n",
        ");"
      ],
      "execution_count": 12,
      "outputs": [
        {
          "output_type": "display_data",
          "data": {
            "image/png": "[encoded data removed]",
            "text/plain": [
              "<Figure size 432x288 with 2 Axes>"
            ]
          },
          "metadata": {
            "needs_background": "light"
          }
        }
      ]
    },
    {
      "cell_type": "code",
      "metadata": {
        "colab": {
          "base_uri": "https://localhost:8080/"
        },
        "id": "YKGV5-Zg28nD",
        "outputId": "8c5b283a-8310-4279-bdd6-d6aa7a0607a7"
      },
      "source": [
        "#IQR Value of Each Column\n",
        "Q1 = data_new.quantile(0.25)\n",
        "Q3 =  data_new.quantile(0.75)\n",
        "IQR = Q3 - Q1\n",
        "print(IQR)"
      ],
      "execution_count": 13,
      "outputs": [
        {
          "output_type": "stream",
          "name": "stdout",
          "text": [
            "DER_mass_MMC                     52.50550\n",
            "DER_mass_transverse_met_lep      54.35700\n",
            "DER_mass_vis                     32.87025\n",
            "DER_pt_h                         65.10025\n",
            "DER_deltaeta_jet_jet            999.49000\n",
            "DER_mass_jet_jet               1082.44600\n",
            "DER_prodeta_jet_jet             994.40700\n",
            "Label                             1.00000\n",
            "dtype: float64\n"
          ]
        }
      ]
    },
    {
      "cell_type": "code",
      "metadata": {
        "colab": {
          "base_uri": "https://localhost:8080/",
          "height": 1000
        },
        "id": "Ed323PMo3QbF",
        "outputId": "a4458b95-a2fe-40ae-d935-d19135770959"
      },
      "source": [
        "import math\n",
        "cols = 3\n",
        "rows = math.ceil(len(data_new.columns)/cols)\n",
        "\n",
        "\n",
        "fig, axen = plt.subplots(rows, cols, figsize = (12, 50))\n",
        "for v, ax in zip(data_new.columns, axen.ravel()):\n",
        "    sns.histplot(data_new[v], ax=ax)\n",
        "    ax.set_xscale('log')"
      ],
      "execution_count": 15,
      "outputs": [
        {
          "output_type": "display_data",
          "data": {
            "image/png": "[encoded data removed]",
            "text/plain": [
              "<Figure size 864x3600 with 9 Axes>"
            ]
          },
          "metadata": {
            "needs_background": "light"
          }
        }
      ]
    },
    {
      "cell_type": "code",
      "metadata": {
        "colab": {
          "base_uri": "https://localhost:8080/",
          "height": 1000
        },
        "id": "xYrngAUv3K7F",
        "outputId": "240e59c6-d524-46d2-b3da-bb6552fe9a99"
      },
      "source": [
        "fig, axen = plt.subplots(rows, cols, figsize = (12, 64))\n",
        "for v, ax in zip(data_new.columns, axen.ravel()):\n",
        "    sns.set(style='whitegrid')\n",
        "    sns.boxplot(x=\"Label\",\n",
        "                y=data_new[v],\n",
        "                data=data_new,ax=ax)"
      ],
      "execution_count": 16,
      "outputs": [
        {
          "output_type": "display_data",
          "data": {
            "image/png": "[encoded data removed]",
            "text/plain": [
              "<Figure size 864x4608 with 9 Axes>"
            ]
          },
          "metadata": {
            "needs_background": "light"
          }
        }
      ]
    },
    {
      "cell_type": "code",
      "metadata": {
        "id": "mP1j83H73lUa"
      },
      "source": [
        "def remove_outlier(df):\n",
        "    QI = df.quantile(0.25)\n",
        "    Q3 = df.quantile(0.75)\n",
        "    IQR =    Q3-Q1 \n",
        "    fence_low  = Q1-1.5*IQR\n",
        "    fence_high = Q3+1.5*IQR\n",
        "    df_new= df[~((df > fence_low) & (df< fence_high))]\n",
        "    return df_new"
      ],
      "execution_count": 17,
      "outputs": []
    },
    {
      "cell_type": "code",
      "metadata": {
        "id": "HkWXv0y93tUC"
      },
      "source": [
        "dr = remove_outlier(data_new)"
      ],
      "execution_count": 18,
      "outputs": []
    },
    {
      "cell_type": "code",
      "metadata": {
        "colab": {
          "base_uri": "https://localhost:8080/",
          "height": 206
        },
        "id": "P3wsD0Rn34A3",
        "outputId": "4f6d88f3-54b1-4cd2-93f2-a8c92ee6c895"
      },
      "source": [
        "dr.tail()"
      ],
      "execution_count": 19,
      "outputs": [
        {
          "output_type": "execute_result",
          "data": {
            "text/html": [
              "<div>\n",
              "<style scoped>\n",
              "    .dataframe tbody tr th:only-of-type {\n",
              "        vertical-align: middle;\n",
              "    }\n",
              "\n",
              "    .dataframe tbody tr th {\n",
              "        vertical-align: top;\n",
              "    }\n",
              "\n",
              "    .dataframe thead th {\n",
              "        text-align: right;\n",
              "    }\n",
              "</style>\n",
              "<table border=\"1\" class=\"dataframe\">\n",
              "  <thead>\n",
              "    <tr style=\"text-align: right;\">\n",
              "      <th></th>\n",
              "      <th>DER_mass_MMC</th>\n",
              "      <th>DER_mass_transverse_met_lep</th>\n",
              "      <th>DER_mass_vis</th>\n",
              "      <th>DER_pt_h</th>\n",
              "      <th>DER_deltaeta_jet_jet</th>\n",
              "      <th>DER_mass_jet_jet</th>\n",
              "      <th>DER_prodeta_jet_jet</th>\n",
              "      <th>Label</th>\n",
              "    </tr>\n",
              "  </thead>\n",
              "  <tbody>\n",
              "    <tr>\n",
              "      <th>249995</th>\n",
              "      <td>-999.0</td>\n",
              "      <td>NaN</td>\n",
              "      <td>NaN</td>\n",
              "      <td>NaN</td>\n",
              "      <td>NaN</td>\n",
              "      <td>NaN</td>\n",
              "      <td>NaN</td>\n",
              "      <td>NaN</td>\n",
              "    </tr>\n",
              "    <tr>\n",
              "      <th>249996</th>\n",
              "      <td>-999.0</td>\n",
              "      <td>NaN</td>\n",
              "      <td>NaN</td>\n",
              "      <td>NaN</td>\n",
              "      <td>NaN</td>\n",
              "      <td>NaN</td>\n",
              "      <td>NaN</td>\n",
              "      <td>NaN</td>\n",
              "    </tr>\n",
              "    <tr>\n",
              "      <th>249997</th>\n",
              "      <td>NaN</td>\n",
              "      <td>NaN</td>\n",
              "      <td>NaN</td>\n",
              "      <td>NaN</td>\n",
              "      <td>NaN</td>\n",
              "      <td>NaN</td>\n",
              "      <td>NaN</td>\n",
              "      <td>NaN</td>\n",
              "    </tr>\n",
              "    <tr>\n",
              "      <th>249998</th>\n",
              "      <td>NaN</td>\n",
              "      <td>NaN</td>\n",
              "      <td>NaN</td>\n",
              "      <td>NaN</td>\n",
              "      <td>NaN</td>\n",
              "      <td>NaN</td>\n",
              "      <td>NaN</td>\n",
              "      <td>NaN</td>\n",
              "    </tr>\n",
              "    <tr>\n",
              "      <th>249999</th>\n",
              "      <td>-999.0</td>\n",
              "      <td>NaN</td>\n",
              "      <td>NaN</td>\n",
              "      <td>NaN</td>\n",
              "      <td>NaN</td>\n",
              "      <td>NaN</td>\n",
              "      <td>NaN</td>\n",
              "      <td>NaN</td>\n",
              "    </tr>\n",
              "  </tbody>\n",
              "</table>\n",
              "</div>"
            ],
            "text/plain": [
              "        DER_mass_MMC  DER_mass_transverse_met_lep  ...  DER_prodeta_jet_jet  Label\n",
              "249995        -999.0                          NaN  ...                  NaN    NaN\n",
              "249996        -999.0                          NaN  ...                  NaN    NaN\n",
              "249997           NaN                          NaN  ...                  NaN    NaN\n",
              "249998           NaN                          NaN  ...                  NaN    NaN\n",
              "249999        -999.0                          NaN  ...                  NaN    NaN\n",
              "\n",
              "[5 rows x 8 columns]"
            ]
          },
          "metadata": {},
          "execution_count": 19
        }
      ]
    },
    {
      "cell_type": "markdown",
      "metadata": {
        "id": "3SeUFeh-Xxpj"
      },
      "source": [
        "##**Data Preprocessing**"
      ]
    },
    {
      "cell_type": "code",
      "metadata": {
        "colab": {
          "base_uri": "https://localhost:8080/"
        },
        "id": "zsmmi3dZ4ouS",
        "outputId": "55c22ccd-2a88-4fce-d512-e7c2bce90b36"
      },
      "source": [
        "data_new.isnull().sum()\n"
      ],
      "execution_count": 22,
      "outputs": [
        {
          "output_type": "execute_result",
          "data": {
            "text/plain": [
              "DER_mass_MMC                   0\n",
              "DER_mass_transverse_met_lep    0\n",
              "DER_mass_vis                   0\n",
              "DER_pt_h                       0\n",
              "DER_deltaeta_jet_jet           0\n",
              "DER_mass_jet_jet               0\n",
              "DER_prodeta_jet_jet            0\n",
              "Label                          0\n",
              "dtype: int64"
            ]
          },
          "metadata": {},
          "execution_count": 22
        }
      ]
    },
    {
      "cell_type": "code",
      "metadata": {
        "colab": {
          "base_uri": "https://localhost:8080/",
          "height": 206
        },
        "id": "es3X-zFa4y7O",
        "outputId": "132f8ca8-267c-4ecf-dab3-e03fd47e661b"
      },
      "source": [
        "label_data = preprocessing.LabelEncoder()\n",
        "data_new['Label'] = label_data.fit_transform(data_new['Label'])\n",
        "data_new.head()"
      ],
      "execution_count": 24,
      "outputs": [
        {
          "output_type": "execute_result",
          "data": {
            "text/html": [
              "<div>\n",
              "<style scoped>\n",
              "    .dataframe tbody tr th:only-of-type {\n",
              "        vertical-align: middle;\n",
              "    }\n",
              "\n",
              "    .dataframe tbody tr th {\n",
              "        vertical-align: top;\n",
              "    }\n",
              "\n",
              "    .dataframe thead th {\n",
              "        text-align: right;\n",
              "    }\n",
              "</style>\n",
              "<table border=\"1\" class=\"dataframe\">\n",
              "  <thead>\n",
              "    <tr style=\"text-align: right;\">\n",
              "      <th></th>\n",
              "      <th>DER_mass_MMC</th>\n",
              "      <th>DER_mass_transverse_met_lep</th>\n",
              "      <th>DER_mass_vis</th>\n",
              "      <th>DER_pt_h</th>\n",
              "      <th>DER_deltaeta_jet_jet</th>\n",
              "      <th>DER_mass_jet_jet</th>\n",
              "      <th>DER_prodeta_jet_jet</th>\n",
              "      <th>Label</th>\n",
              "    </tr>\n",
              "  </thead>\n",
              "  <tbody>\n",
              "    <tr>\n",
              "      <th>0</th>\n",
              "      <td>138.470</td>\n",
              "      <td>51.655</td>\n",
              "      <td>97.827</td>\n",
              "      <td>27.980</td>\n",
              "      <td>0.91</td>\n",
              "      <td>124.711</td>\n",
              "      <td>2.666</td>\n",
              "      <td>1</td>\n",
              "    </tr>\n",
              "    <tr>\n",
              "      <th>1</th>\n",
              "      <td>160.937</td>\n",
              "      <td>68.768</td>\n",
              "      <td>103.235</td>\n",
              "      <td>48.146</td>\n",
              "      <td>-999.00</td>\n",
              "      <td>-999.000</td>\n",
              "      <td>-999.000</td>\n",
              "      <td>0</td>\n",
              "    </tr>\n",
              "    <tr>\n",
              "      <th>2</th>\n",
              "      <td>-999.000</td>\n",
              "      <td>162.172</td>\n",
              "      <td>125.953</td>\n",
              "      <td>35.635</td>\n",
              "      <td>-999.00</td>\n",
              "      <td>-999.000</td>\n",
              "      <td>-999.000</td>\n",
              "      <td>0</td>\n",
              "    </tr>\n",
              "    <tr>\n",
              "      <th>3</th>\n",
              "      <td>143.905</td>\n",
              "      <td>81.417</td>\n",
              "      <td>80.943</td>\n",
              "      <td>0.414</td>\n",
              "      <td>-999.00</td>\n",
              "      <td>-999.000</td>\n",
              "      <td>-999.000</td>\n",
              "      <td>0</td>\n",
              "    </tr>\n",
              "    <tr>\n",
              "      <th>4</th>\n",
              "      <td>175.864</td>\n",
              "      <td>16.915</td>\n",
              "      <td>134.805</td>\n",
              "      <td>16.405</td>\n",
              "      <td>-999.00</td>\n",
              "      <td>-999.000</td>\n",
              "      <td>-999.000</td>\n",
              "      <td>0</td>\n",
              "    </tr>\n",
              "  </tbody>\n",
              "</table>\n",
              "</div>"
            ],
            "text/plain": [
              "   DER_mass_MMC  DER_mass_transverse_met_lep  ...  DER_prodeta_jet_jet  Label\n",
              "0       138.470                       51.655  ...                2.666      1\n",
              "1       160.937                       68.768  ...             -999.000      0\n",
              "2      -999.000                      162.172  ...             -999.000      0\n",
              "3       143.905                       81.417  ...             -999.000      0\n",
              "4       175.864                       16.915  ...             -999.000      0\n",
              "\n",
              "[5 rows x 8 columns]"
            ]
          },
          "metadata": {},
          "execution_count": 24
        }
      ]
    },
    {
      "cell_type": "code",
      "metadata": {
        "id": "OM2gTTjC5I2Q"
      },
      "source": [
        "data_new[data_new==-999.000] = np.NaN\n"
      ],
      "execution_count": 26,
      "outputs": []
    },
    {
      "cell_type": "code",
      "metadata": {
        "id": "iDDU5bFx5Or3"
      },
      "source": [
        "data_new.fillna(data_new.mean(), inplace = True)"
      ],
      "execution_count": 27,
      "outputs": []
    },
    {
      "cell_type": "code",
      "metadata": {
        "colab": {
          "base_uri": "https://localhost:8080/",
          "height": 423
        },
        "id": "dM7gq8N15UNc",
        "outputId": "786bb66f-1ca8-452b-ec1c-6533d3c645a5"
      },
      "source": [
        "data_new"
      ],
      "execution_count": 28,
      "outputs": [
        {
          "output_type": "execute_result",
          "data": {
            "text/html": [
              "<div>\n",
              "<style scoped>\n",
              "    .dataframe tbody tr th:only-of-type {\n",
              "        vertical-align: middle;\n",
              "    }\n",
              "\n",
              "    .dataframe tbody tr th {\n",
              "        vertical-align: top;\n",
              "    }\n",
              "\n",
              "    .dataframe thead th {\n",
              "        text-align: right;\n",
              "    }\n",
              "</style>\n",
              "<table border=\"1\" class=\"dataframe\">\n",
              "  <thead>\n",
              "    <tr style=\"text-align: right;\">\n",
              "      <th></th>\n",
              "      <th>DER_mass_MMC</th>\n",
              "      <th>DER_mass_transverse_met_lep</th>\n",
              "      <th>DER_mass_vis</th>\n",
              "      <th>DER_pt_h</th>\n",
              "      <th>DER_deltaeta_jet_jet</th>\n",
              "      <th>DER_mass_jet_jet</th>\n",
              "      <th>DER_prodeta_jet_jet</th>\n",
              "      <th>Label</th>\n",
              "    </tr>\n",
              "  </thead>\n",
              "  <tbody>\n",
              "    <tr>\n",
              "      <th>0</th>\n",
              "      <td>138.470000</td>\n",
              "      <td>51.655</td>\n",
              "      <td>97.827</td>\n",
              "      <td>27.980</td>\n",
              "      <td>0.910000</td>\n",
              "      <td>124.71100</td>\n",
              "      <td>2.666000</td>\n",
              "      <td>1</td>\n",
              "    </tr>\n",
              "    <tr>\n",
              "      <th>1</th>\n",
              "      <td>160.937000</td>\n",
              "      <td>68.768</td>\n",
              "      <td>103.235</td>\n",
              "      <td>48.146</td>\n",
              "      <td>2.403735</td>\n",
              "      <td>371.78336</td>\n",
              "      <td>-0.821688</td>\n",
              "      <td>0</td>\n",
              "    </tr>\n",
              "    <tr>\n",
              "      <th>2</th>\n",
              "      <td>121.858528</td>\n",
              "      <td>162.172</td>\n",
              "      <td>125.953</td>\n",
              "      <td>35.635</td>\n",
              "      <td>2.403735</td>\n",
              "      <td>371.78336</td>\n",
              "      <td>-0.821688</td>\n",
              "      <td>0</td>\n",
              "    </tr>\n",
              "    <tr>\n",
              "      <th>3</th>\n",
              "      <td>143.905000</td>\n",
              "      <td>81.417</td>\n",
              "      <td>80.943</td>\n",
              "      <td>0.414</td>\n",
              "      <td>2.403735</td>\n",
              "      <td>371.78336</td>\n",
              "      <td>-0.821688</td>\n",
              "      <td>0</td>\n",
              "    </tr>\n",
              "    <tr>\n",
              "      <th>4</th>\n",
              "      <td>175.864000</td>\n",
              "      <td>16.915</td>\n",
              "      <td>134.805</td>\n",
              "      <td>16.405</td>\n",
              "      <td>2.403735</td>\n",
              "      <td>371.78336</td>\n",
              "      <td>-0.821688</td>\n",
              "      <td>0</td>\n",
              "    </tr>\n",
              "    <tr>\n",
              "      <th>...</th>\n",
              "      <td>...</td>\n",
              "      <td>...</td>\n",
              "      <td>...</td>\n",
              "      <td>...</td>\n",
              "      <td>...</td>\n",
              "      <td>...</td>\n",
              "      <td>...</td>\n",
              "      <td>...</td>\n",
              "    </tr>\n",
              "    <tr>\n",
              "      <th>249995</th>\n",
              "      <td>121.858528</td>\n",
              "      <td>71.989</td>\n",
              "      <td>36.548</td>\n",
              "      <td>5.042</td>\n",
              "      <td>2.403735</td>\n",
              "      <td>371.78336</td>\n",
              "      <td>-0.821688</td>\n",
              "      <td>0</td>\n",
              "    </tr>\n",
              "    <tr>\n",
              "      <th>249996</th>\n",
              "      <td>121.858528</td>\n",
              "      <td>58.179</td>\n",
              "      <td>68.083</td>\n",
              "      <td>22.439</td>\n",
              "      <td>2.403735</td>\n",
              "      <td>371.78336</td>\n",
              "      <td>-0.821688</td>\n",
              "      <td>0</td>\n",
              "    </tr>\n",
              "    <tr>\n",
              "      <th>249997</th>\n",
              "      <td>105.457000</td>\n",
              "      <td>60.526</td>\n",
              "      <td>75.839</td>\n",
              "      <td>39.757</td>\n",
              "      <td>2.403735</td>\n",
              "      <td>371.78336</td>\n",
              "      <td>-0.821688</td>\n",
              "      <td>1</td>\n",
              "    </tr>\n",
              "    <tr>\n",
              "      <th>249998</th>\n",
              "      <td>94.951000</td>\n",
              "      <td>19.362</td>\n",
              "      <td>68.812</td>\n",
              "      <td>13.504</td>\n",
              "      <td>2.403735</td>\n",
              "      <td>371.78336</td>\n",
              "      <td>-0.821688</td>\n",
              "      <td>0</td>\n",
              "    </tr>\n",
              "    <tr>\n",
              "      <th>249999</th>\n",
              "      <td>121.858528</td>\n",
              "      <td>72.756</td>\n",
              "      <td>70.831</td>\n",
              "      <td>7.479</td>\n",
              "      <td>2.403735</td>\n",
              "      <td>371.78336</td>\n",
              "      <td>-0.821688</td>\n",
              "      <td>0</td>\n",
              "    </tr>\n",
              "  </tbody>\n",
              "</table>\n",
              "<p>250000 rows × 8 columns</p>\n",
              "</div>"
            ],
            "text/plain": [
              "        DER_mass_MMC  DER_mass_transverse_met_lep  ...  DER_prodeta_jet_jet  Label\n",
              "0         138.470000                       51.655  ...             2.666000      1\n",
              "1         160.937000                       68.768  ...            -0.821688      0\n",
              "2         121.858528                      162.172  ...            -0.821688      0\n",
              "3         143.905000                       81.417  ...            -0.821688      0\n",
              "4         175.864000                       16.915  ...            -0.821688      0\n",
              "...              ...                          ...  ...                  ...    ...\n",
              "249995    121.858528                       71.989  ...            -0.821688      0\n",
              "249996    121.858528                       58.179  ...            -0.821688      0\n",
              "249997    105.457000                       60.526  ...            -0.821688      1\n",
              "249998     94.951000                       19.362  ...            -0.821688      0\n",
              "249999    121.858528                       72.756  ...            -0.821688      0\n",
              "\n",
              "[250000 rows x 8 columns]"
            ]
          },
          "metadata": {},
          "execution_count": 28
        }
      ]
    },
    {
      "cell_type": "markdown",
      "metadata": {
        "id": "18K35s75YHW9"
      },
      "source": [
        "##**Training Model**"
      ]
    },
    {
      "cell_type": "code",
      "metadata": {
        "id": "KwxxHoGt5cfJ"
      },
      "source": [
        "y_train = data_new['Label'].values\n",
        "x_train = data_new.drop(['Label'], axis=1)"
      ],
      "execution_count": 30,
      "outputs": []
    },
    {
      "cell_type": "code",
      "metadata": {
        "colab": {
          "base_uri": "https://localhost:8080/"
        },
        "id": "8zN9LE-v5hbU",
        "outputId": "d4b58160-67ea-426b-a03e-9985926f8e31"
      },
      "source": [
        "x_train.astype"
      ],
      "execution_count": 31,
      "outputs": [
        {
          "output_type": "execute_result",
          "data": {
            "text/plain": [
              "<bound method NDFrame.astype of         DER_mass_MMC  ...  DER_prodeta_jet_jet\n",
              "0         138.470000  ...             2.666000\n",
              "1         160.937000  ...            -0.821688\n",
              "2         121.858528  ...            -0.821688\n",
              "3         143.905000  ...            -0.821688\n",
              "4         175.864000  ...            -0.821688\n",
              "...              ...  ...                  ...\n",
              "249995    121.858528  ...            -0.821688\n",
              "249996    121.858528  ...            -0.821688\n",
              "249997    105.457000  ...            -0.821688\n",
              "249998     94.951000  ...            -0.821688\n",
              "249999    121.858528  ...            -0.821688\n",
              "\n",
              "[250000 rows x 7 columns]>"
            ]
          },
          "metadata": {},
          "execution_count": 31
        }
      ]
    },
    {
      "cell_type": "code",
      "metadata": {
        "colab": {
          "base_uri": "https://localhost:8080/"
        },
        "id": "2flCayls5mpv",
        "outputId": "8e57e76f-cccd-4153-f592-51594a7beb90"
      },
      "source": [
        "data_new.astype"
      ],
      "execution_count": 32,
      "outputs": [
        {
          "output_type": "execute_result",
          "data": {
            "text/plain": [
              "<bound method NDFrame.astype of         DER_mass_MMC  DER_mass_transverse_met_lep  ...  DER_prodeta_jet_jet  Label\n",
              "0         138.470000                       51.655  ...             2.666000      1\n",
              "1         160.937000                       68.768  ...            -0.821688      0\n",
              "2         121.858528                      162.172  ...            -0.821688      0\n",
              "3         143.905000                       81.417  ...            -0.821688      0\n",
              "4         175.864000                       16.915  ...            -0.821688      0\n",
              "...              ...                          ...  ...                  ...    ...\n",
              "249995    121.858528                       71.989  ...            -0.821688      0\n",
              "249996    121.858528                       58.179  ...            -0.821688      0\n",
              "249997    105.457000                       60.526  ...            -0.821688      1\n",
              "249998     94.951000                       19.362  ...            -0.821688      0\n",
              "249999    121.858528                       72.756  ...            -0.821688      0\n",
              "\n",
              "[250000 rows x 8 columns]>"
            ]
          },
          "metadata": {},
          "execution_count": 32
        }
      ]
    },
    {
      "cell_type": "code",
      "metadata": {
        "id": "daaALq6d5swn"
      },
      "source": [
        "from sklearn.model_selection import train_test_split\n",
        "X_train_SS, X_test_SS, y_train_SS, y_test_SS = train_test_split(x_train, y_train, test_size=0.33, random_state=42)"
      ],
      "execution_count": 33,
      "outputs": []
    },
    {
      "cell_type": "code",
      "metadata": {
        "id": "Obpauuiw6UhX"
      },
      "source": [
        "import numpy\n",
        "X_train_SS= X_train_SS.to_numpy()\n",
        "X_test_SS=X_test_SS.to_numpy()"
      ],
      "execution_count": 34,
      "outputs": []
    },
    {
      "cell_type": "code",
      "metadata": {
        "colab": {
          "base_uri": "https://localhost:8080/"
        },
        "id": "3c42calU6g6Q",
        "outputId": "77ff6078-5214-4b69-be53-eedac6e3a605"
      },
      "source": [
        "import numpy\n",
        "print(numpy.__version__)"
      ],
      "execution_count": 36,
      "outputs": [
        {
          "output_type": "stream",
          "name": "stdout",
          "text": [
            "1.19.5\n"
          ]
        }
      ]
    },
    {
      "cell_type": "code",
      "metadata": {
        "colab": {
          "base_uri": "https://localhost:8080/"
        },
        "id": "a80WfzaE7-75",
        "outputId": "08b4f19f-74ea-457d-ca37-e5d2edeec7ca"
      },
      "source": [
        "X_train_SS.shape\n"
      ],
      "execution_count": 38,
      "outputs": [
        {
          "output_type": "execute_result",
          "data": {
            "text/plain": [
              "(167500, 7)"
            ]
          },
          "metadata": {},
          "execution_count": 38
        }
      ]
    },
    {
      "cell_type": "code",
      "metadata": {
        "id": "USRjq0g68C7Z"
      },
      "source": [
        "# reshape for rnn\n",
        "\n",
        "X_train_SS = X_train_SS.reshape(X_train_SS.shape[0],X_train_SS.shape[1],1)\n",
        "X_test_SS =X_test_SS.reshape(X_test_SS.shape[0],X_test_SS.shape[1],1)"
      ],
      "execution_count": 39,
      "outputs": []
    },
    {
      "cell_type": "code",
      "metadata": {
        "colab": {
          "base_uri": "https://localhost:8080/"
        },
        "id": "2usDlCrC8HD7",
        "outputId": "66880a64-0494-461d-e9a8-ce2cb575237c"
      },
      "source": [
        "columns_ = x_train.iloc[:].columns\n",
        "columns_.shape"
      ],
      "execution_count": 40,
      "outputs": [
        {
          "output_type": "execute_result",
          "data": {
            "text/plain": [
              "(7,)"
            ]
          },
          "metadata": {},
          "execution_count": 40
        }
      ]
    },
    {
      "cell_type": "code",
      "metadata": {
        "id": "IgjtA-8P8KfA"
      },
      "source": [
        "from sklearn.preprocessing import StandardScaler\n",
        "scalar = StandardScaler()\n",
        "df_scaled = pd.DataFrame(scalar.fit_transform(x_train), columns = columns_)\n",
        "df = pd.DataFrame(df_scaled)"
      ],
      "execution_count": 41,
      "outputs": []
    },
    {
      "cell_type": "code",
      "metadata": {
        "colab": {
          "base_uri": "https://localhost:8080/",
          "height": 423
        },
        "id": "9TM9HXCD8MbV",
        "outputId": "4b19831e-484f-4b7f-83d1-5717aabb7b3a"
      },
      "source": [
        "df"
      ],
      "execution_count": 42,
      "outputs": [
        {
          "output_type": "execute_result",
          "data": {
            "text/html": [
              "<div>\n",
              "<style scoped>\n",
              "    .dataframe tbody tr th:only-of-type {\n",
              "        vertical-align: middle;\n",
              "    }\n",
              "\n",
              "    .dataframe tbody tr th {\n",
              "        vertical-align: top;\n",
              "    }\n",
              "\n",
              "    .dataframe thead th {\n",
              "        text-align: right;\n",
              "    }\n",
              "</style>\n",
              "<table border=\"1\" class=\"dataframe\">\n",
              "  <thead>\n",
              "    <tr style=\"text-align: right;\">\n",
              "      <th></th>\n",
              "      <th>DER_mass_MMC</th>\n",
              "      <th>DER_mass_transverse_met_lep</th>\n",
              "      <th>DER_mass_vis</th>\n",
              "      <th>DER_pt_h</th>\n",
              "      <th>DER_deltaeta_jet_jet</th>\n",
              "      <th>DER_mass_jet_jet</th>\n",
              "      <th>DER_prodeta_jet_jet</th>\n",
              "    </tr>\n",
              "  </thead>\n",
              "  <tbody>\n",
              "    <tr>\n",
              "      <th>0</th>\n",
              "      <td>3.149107e-01</td>\n",
              "      <td>0.068332</td>\n",
              "      <td>0.407680</td>\n",
              "      <td>-0.469966</td>\n",
              "      <td>-1.591638e+00</td>\n",
              "      <td>-1.153306e+00</td>\n",
              "      <td>1.806346e+00</td>\n",
              "    </tr>\n",
              "    <tr>\n",
              "      <th>1</th>\n",
              "      <td>7.408270e-01</td>\n",
              "      <td>0.552505</td>\n",
              "      <td>0.540136</td>\n",
              "      <td>-0.153167</td>\n",
              "      <td>8.517525e-15</td>\n",
              "      <td>-4.776096e-15</td>\n",
              "      <td>-1.207516e-15</td>\n",
              "    </tr>\n",
              "    <tr>\n",
              "      <th>2</th>\n",
              "      <td>-2.963413e-14</td>\n",
              "      <td>3.195156</td>\n",
              "      <td>1.096560</td>\n",
              "      <td>-0.349710</td>\n",
              "      <td>8.517525e-15</td>\n",
              "      <td>-4.776096e-15</td>\n",
              "      <td>-1.207516e-15</td>\n",
              "    </tr>\n",
              "    <tr>\n",
              "      <th>3</th>\n",
              "      <td>4.179442e-01</td>\n",
              "      <td>0.910379</td>\n",
              "      <td>-0.005853</td>\n",
              "      <td>-0.903016</td>\n",
              "      <td>8.517525e-15</td>\n",
              "      <td>-4.776096e-15</td>\n",
              "      <td>-1.207516e-15</td>\n",
              "    </tr>\n",
              "    <tr>\n",
              "      <th>4</th>\n",
              "      <td>1.023804e+00</td>\n",
              "      <td>-0.914556</td>\n",
              "      <td>1.313369</td>\n",
              "      <td>-0.651804</td>\n",
              "      <td>8.517525e-15</td>\n",
              "      <td>-4.776096e-15</td>\n",
              "      <td>-1.207516e-15</td>\n",
              "    </tr>\n",
              "    <tr>\n",
              "      <th>...</th>\n",
              "      <td>...</td>\n",
              "      <td>...</td>\n",
              "      <td>...</td>\n",
              "      <td>...</td>\n",
              "      <td>...</td>\n",
              "      <td>...</td>\n",
              "      <td>...</td>\n",
              "    </tr>\n",
              "    <tr>\n",
              "      <th>249995</th>\n",
              "      <td>-2.963413e-14</td>\n",
              "      <td>0.643636</td>\n",
              "      <td>-1.093204</td>\n",
              "      <td>-0.830312</td>\n",
              "      <td>8.517525e-15</td>\n",
              "      <td>-4.776096e-15</td>\n",
              "      <td>-1.207516e-15</td>\n",
              "    </tr>\n",
              "    <tr>\n",
              "      <th>249996</th>\n",
              "      <td>-2.963413e-14</td>\n",
              "      <td>0.252913</td>\n",
              "      <td>-0.320829</td>\n",
              "      <td>-0.557013</td>\n",
              "      <td>8.517525e-15</td>\n",
              "      <td>-4.776096e-15</td>\n",
              "      <td>-1.207516e-15</td>\n",
              "    </tr>\n",
              "    <tr>\n",
              "      <th>249997</th>\n",
              "      <td>-3.109307e-01</td>\n",
              "      <td>0.319316</td>\n",
              "      <td>-0.130864</td>\n",
              "      <td>-0.284955</td>\n",
              "      <td>8.517525e-15</td>\n",
              "      <td>-4.776096e-15</td>\n",
              "      <td>-1.207516e-15</td>\n",
              "    </tr>\n",
              "    <tr>\n",
              "      <th>249998</th>\n",
              "      <td>-5.100973e-01</td>\n",
              "      <td>-0.845324</td>\n",
              "      <td>-0.302973</td>\n",
              "      <td>-0.697378</td>\n",
              "      <td>8.517525e-15</td>\n",
              "      <td>-4.776096e-15</td>\n",
              "      <td>-1.207516e-15</td>\n",
              "    </tr>\n",
              "    <tr>\n",
              "      <th>249999</th>\n",
              "      <td>-2.963413e-14</td>\n",
              "      <td>0.665336</td>\n",
              "      <td>-0.253523</td>\n",
              "      <td>-0.792028</td>\n",
              "      <td>8.517525e-15</td>\n",
              "      <td>-4.776096e-15</td>\n",
              "      <td>-1.207516e-15</td>\n",
              "    </tr>\n",
              "  </tbody>\n",
              "</table>\n",
              "<p>250000 rows × 7 columns</p>\n",
              "</div>"
            ],
            "text/plain": [
              "        DER_mass_MMC  ...  DER_prodeta_jet_jet\n",
              "0       3.149107e-01  ...         1.806346e+00\n",
              "1       7.408270e-01  ...        -1.207516e-15\n",
              "2      -2.963413e-14  ...        -1.207516e-15\n",
              "3       4.179442e-01  ...        -1.207516e-15\n",
              "4       1.023804e+00  ...        -1.207516e-15\n",
              "...              ...  ...                  ...\n",
              "249995 -2.963413e-14  ...        -1.207516e-15\n",
              "249996 -2.963413e-14  ...        -1.207516e-15\n",
              "249997 -3.109307e-01  ...        -1.207516e-15\n",
              "249998 -5.100973e-01  ...        -1.207516e-15\n",
              "249999 -2.963413e-14  ...        -1.207516e-15\n",
              "\n",
              "[250000 rows x 7 columns]"
            ]
          },
          "metadata": {},
          "execution_count": 42
        }
      ]
    },
    {
      "cell_type": "code",
      "metadata": {
        "colab": {
          "base_uri": "https://localhost:8080/",
          "height": 423
        },
        "id": "MxH6otjn8UAF",
        "outputId": "6bf4f410-6f01-4915-87c2-b6c366d9efcc"
      },
      "source": [
        "from sklearn.decomposition import PCA\n",
        "pca = PCA()\n",
        "df_pca = pd.DataFrame(pca.fit_transform(df))\n",
        "df_pca"
      ],
      "execution_count": 43,
      "outputs": [
        {
          "output_type": "execute_result",
          "data": {
            "text/html": [
              "<div>\n",
              "<style scoped>\n",
              "    .dataframe tbody tr th:only-of-type {\n",
              "        vertical-align: middle;\n",
              "    }\n",
              "\n",
              "    .dataframe tbody tr th {\n",
              "        vertical-align: top;\n",
              "    }\n",
              "\n",
              "    .dataframe thead th {\n",
              "        text-align: right;\n",
              "    }\n",
              "</style>\n",
              "<table border=\"1\" class=\"dataframe\">\n",
              "  <thead>\n",
              "    <tr style=\"text-align: right;\">\n",
              "      <th></th>\n",
              "      <th>0</th>\n",
              "      <th>1</th>\n",
              "      <th>2</th>\n",
              "      <th>3</th>\n",
              "      <th>4</th>\n",
              "      <th>5</th>\n",
              "      <th>6</th>\n",
              "    </tr>\n",
              "  </thead>\n",
              "  <tbody>\n",
              "    <tr>\n",
              "      <th>0</th>\n",
              "      <td>-2.681879</td>\n",
              "      <td>0.232380</td>\n",
              "      <td>-0.025619</td>\n",
              "      <td>-0.345093</td>\n",
              "      <td>0.500794</td>\n",
              "      <td>0.010832</td>\n",
              "      <td>0.009519</td>\n",
              "    </tr>\n",
              "    <tr>\n",
              "      <th>1</th>\n",
              "      <td>-0.142412</td>\n",
              "      <td>1.030859</td>\n",
              "      <td>-0.179472</td>\n",
              "      <td>0.180757</td>\n",
              "      <td>0.002148</td>\n",
              "      <td>-0.146402</td>\n",
              "      <td>0.004611</td>\n",
              "    </tr>\n",
              "    <tr>\n",
              "      <th>2</th>\n",
              "      <td>-0.409862</td>\n",
              "      <td>1.703162</td>\n",
              "      <td>-1.936360</td>\n",
              "      <td>2.021318</td>\n",
              "      <td>-0.050000</td>\n",
              "      <td>0.787459</td>\n",
              "      <td>-0.084861</td>\n",
              "    </tr>\n",
              "    <tr>\n",
              "      <th>3</th>\n",
              "      <td>-0.164672</td>\n",
              "      <td>0.634235</td>\n",
              "      <td>-1.115658</td>\n",
              "      <td>0.098398</td>\n",
              "      <td>0.070793</td>\n",
              "      <td>-0.355565</td>\n",
              "      <td>0.061264</td>\n",
              "    </tr>\n",
              "    <tr>\n",
              "      <th>4</th>\n",
              "      <td>-0.094121</td>\n",
              "      <td>1.361646</td>\n",
              "      <td>0.476124</td>\n",
              "      <td>-1.379051</td>\n",
              "      <td>0.133613</td>\n",
              "      <td>0.140507</td>\n",
              "      <td>0.073241</td>\n",
              "    </tr>\n",
              "    <tr>\n",
              "      <th>...</th>\n",
              "      <td>...</td>\n",
              "      <td>...</td>\n",
              "      <td>...</td>\n",
              "      <td>...</td>\n",
              "      <td>...</td>\n",
              "      <td>...</td>\n",
              "      <td>...</td>\n",
              "    </tr>\n",
              "    <tr>\n",
              "      <th>249995</th>\n",
              "      <td>-0.036599</td>\n",
              "      <td>-0.457129</td>\n",
              "      <td>-1.174442</td>\n",
              "      <td>0.146257</td>\n",
              "      <td>0.050238</td>\n",
              "      <td>-0.824082</td>\n",
              "      <td>0.078314</td>\n",
              "    </tr>\n",
              "    <tr>\n",
              "      <th>249996</th>\n",
              "      <td>-0.034779</td>\n",
              "      <td>-0.082414</td>\n",
              "      <td>-0.619433</td>\n",
              "      <td>-0.102458</td>\n",
              "      <td>0.050597</td>\n",
              "      <td>-0.264951</td>\n",
              "      <td>0.046940</td>\n",
              "    </tr>\n",
              "    <tr>\n",
              "      <th>249997</th>\n",
              "      <td>-0.020948</td>\n",
              "      <td>-0.170877</td>\n",
              "      <td>-0.492744</td>\n",
              "      <td>0.109066</td>\n",
              "      <td>0.023439</td>\n",
              "      <td>0.109531</td>\n",
              "      <td>0.009454</td>\n",
              "    </tr>\n",
              "    <tr>\n",
              "      <th>249998</th>\n",
              "      <td>0.093987</td>\n",
              "      <td>-0.714406</td>\n",
              "      <td>-0.206516</td>\n",
              "      <td>-0.982650</td>\n",
              "      <td>0.115667</td>\n",
              "      <td>0.081718</td>\n",
              "      <td>0.073371</td>\n",
              "    </tr>\n",
              "    <tr>\n",
              "      <th>249999</th>\n",
              "      <td>-0.093391</td>\n",
              "      <td>0.107732</td>\n",
              "      <td>-1.025213</td>\n",
              "      <td>0.052864</td>\n",
              "      <td>0.065491</td>\n",
              "      <td>-0.230059</td>\n",
              "      <td>0.053419</td>\n",
              "    </tr>\n",
              "  </tbody>\n",
              "</table>\n",
              "<p>250000 rows × 7 columns</p>\n",
              "</div>"
            ],
            "text/plain": [
              "               0         1         2         3         4         5         6\n",
              "0      -2.681879  0.232380 -0.025619 -0.345093  0.500794  0.010832  0.009519\n",
              "1      -0.142412  1.030859 -0.179472  0.180757  0.002148 -0.146402  0.004611\n",
              "2      -0.409862  1.703162 -1.936360  2.021318 -0.050000  0.787459 -0.084861\n",
              "3      -0.164672  0.634235 -1.115658  0.098398  0.070793 -0.355565  0.061264\n",
              "4      -0.094121  1.361646  0.476124 -1.379051  0.133613  0.140507  0.073241\n",
              "...          ...       ...       ...       ...       ...       ...       ...\n",
              "249995 -0.036599 -0.457129 -1.174442  0.146257  0.050238 -0.824082  0.078314\n",
              "249996 -0.034779 -0.082414 -0.619433 -0.102458  0.050597 -0.264951  0.046940\n",
              "249997 -0.020948 -0.170877 -0.492744  0.109066  0.023439  0.109531  0.009454\n",
              "249998  0.093987 -0.714406 -0.206516 -0.982650  0.115667  0.081718  0.073371\n",
              "249999 -0.093391  0.107732 -1.025213  0.052864  0.065491 -0.230059  0.053419\n",
              "\n",
              "[250000 rows x 7 columns]"
            ]
          },
          "metadata": {},
          "execution_count": 43
        }
      ]
    },
    {
      "cell_type": "code",
      "metadata": {
        "colab": {
          "base_uri": "https://localhost:8080/",
          "height": 282
        },
        "id": "sBHOPLaB8bQn",
        "outputId": "902a4e5a-5d33-4b75-ba2d-42051413b68e"
      },
      "source": [
        "import matplotlib.pyplot as plt\n",
        "pd.DataFrame(pca.explained_variance_ratio_).plot.bar()\n",
        "plt.legend('')\n",
        "plt.xlabel('Principal Components')\n",
        "plt.ylabel('Explained Varience');"
      ],
      "execution_count": 44,
      "outputs": [
        {
          "output_type": "display_data",
          "data": {
            "image/png": "[encoded data removed]",
            "text/plain": [
              "<Figure size 432x288 with 1 Axes>"
            ]
          },
          "metadata": {}
        }
      ]
    },
    {
      "cell_type": "code",
      "metadata": {
        "colab": {
          "base_uri": "https://localhost:8080/"
        },
        "id": "MtIVatl88fwo",
        "outputId": "483beb79-2369-4c92-965a-e2593da93dcd"
      },
      "source": [
        "pca_15 = PCA(n_components=4, random_state = 2020)\n",
        "principalComponents_15 = pca_15.fit_transform(df)\n",
        "print('Explained variation by 4 principal components: {}'.format(sum(pca_15.explained_variance_ratio_)*100))"
      ],
      "execution_count": 45,
      "outputs": [
        {
          "output_type": "stream",
          "name": "stdout",
          "text": [
            "Explained variation by 4 principal components: 91.73045935736866\n"
          ]
        }
      ]
    },
    {
      "cell_type": "code",
      "metadata": {
        "colab": {
          "base_uri": "https://localhost:8080/",
          "height": 206
        },
        "id": "7DdCxVfV8h21",
        "outputId": "fecc81b6-e306-4f4c-bf6e-706907378277"
      },
      "source": [
        "principal_cols = ['Principal component '+str(i) for i in range(principalComponents_15.shape[1])]\n",
        "pca_df = pd.DataFrame(data = principalComponents_15,columns=principal_cols)\n",
        "pca_df.head()"
      ],
      "execution_count": 46,
      "outputs": [
        {
          "output_type": "execute_result",
          "data": {
            "text/html": [
              "<div>\n",
              "<style scoped>\n",
              "    .dataframe tbody tr th:only-of-type {\n",
              "        vertical-align: middle;\n",
              "    }\n",
              "\n",
              "    .dataframe tbody tr th {\n",
              "        vertical-align: top;\n",
              "    }\n",
              "\n",
              "    .dataframe thead th {\n",
              "        text-align: right;\n",
              "    }\n",
              "</style>\n",
              "<table border=\"1\" class=\"dataframe\">\n",
              "  <thead>\n",
              "    <tr style=\"text-align: right;\">\n",
              "      <th></th>\n",
              "      <th>Principal component 0</th>\n",
              "      <th>Principal component 1</th>\n",
              "      <th>Principal component 2</th>\n",
              "      <th>Principal component 3</th>\n",
              "    </tr>\n",
              "  </thead>\n",
              "  <tbody>\n",
              "    <tr>\n",
              "      <th>0</th>\n",
              "      <td>-2.681879</td>\n",
              "      <td>0.232380</td>\n",
              "      <td>-0.025619</td>\n",
              "      <td>-0.345093</td>\n",
              "    </tr>\n",
              "    <tr>\n",
              "      <th>1</th>\n",
              "      <td>-0.142412</td>\n",
              "      <td>1.030859</td>\n",
              "      <td>-0.179472</td>\n",
              "      <td>0.180757</td>\n",
              "    </tr>\n",
              "    <tr>\n",
              "      <th>2</th>\n",
              "      <td>-0.409862</td>\n",
              "      <td>1.703162</td>\n",
              "      <td>-1.936360</td>\n",
              "      <td>2.021318</td>\n",
              "    </tr>\n",
              "    <tr>\n",
              "      <th>3</th>\n",
              "      <td>-0.164672</td>\n",
              "      <td>0.634235</td>\n",
              "      <td>-1.115658</td>\n",
              "      <td>0.098398</td>\n",
              "    </tr>\n",
              "    <tr>\n",
              "      <th>4</th>\n",
              "      <td>-0.094121</td>\n",
              "      <td>1.361646</td>\n",
              "      <td>0.476124</td>\n",
              "      <td>-1.379051</td>\n",
              "    </tr>\n",
              "  </tbody>\n",
              "</table>\n",
              "</div>"
            ],
            "text/plain": [
              "   Principal component 0  ...  Principal component 3\n",
              "0              -2.681879  ...              -0.345093\n",
              "1              -0.142412  ...               0.180757\n",
              "2              -0.409862  ...               2.021318\n",
              "3              -0.164672  ...               0.098398\n",
              "4              -0.094121  ...              -1.379051\n",
              "\n",
              "[5 rows x 4 columns]"
            ]
          },
          "metadata": {},
          "execution_count": 46
        }
      ]
    },
    {
      "cell_type": "markdown",
      "metadata": {
        "id": "5U4wikoAYRAp"
      },
      "source": [
        "##**LSTM MODEL**"
      ]
    },
    {
      "cell_type": "code",
      "metadata": {
        "id": "cJrYPjwF8tmu"
      },
      "source": [
        "from tensorflow.keras.callbacks import ModelCheckpoint, ReduceLROnPlateau, EarlyStopping\n",
        "from tensorflow.keras.layers import Input, LSTM, Dense, Concatenate,GRU,Dropout,LeakyReLU\n",
        "from tensorflow.keras.models import Model\n",
        "from tensorflow.keras.callbacks import EarlyStopping\n",
        "from tensorflow.io import FixedLenFeature\n",
        "from tensorflow import keras\n",
        "from tensorflow.keras import layers\n",
        "from tensorflow.keras import callbacks\n",
        "import seaborn as sns\n",
        "import matplotlib.pyplot as plt\n",
        "from sklearn.model_selection import StratifiedShuffleSplit\n",
        "from sklearn.preprocessing import LabelEncoder,OneHotEncoder, normalize\n",
        "from keras.models import Sequential\n",
        "from keras.layers import Bidirectional"
      ],
      "execution_count": 47,
      "outputs": []
    },
    {
      "cell_type": "code",
      "metadata": {
        "id": "zMyVwa1P8wJ-"
      },
      "source": [
        "def build_Lstm_model(train_x,train_y,test_x,test_y):\n",
        "    inp = Input(shape=(train_x.shape[1],train_x.shape[2]))\n",
        "    rnn_1st_model = LSTM(units=60, return_sequences=True,recurrent_dropout=0.1)(inp)\n",
        "    rnn_2nd_model = LSTM(units=60,recurrent_dropout=0.1)(rnn_1st_model)\n",
        "    dense_layer = Dense(128)(rnn_2nd_model)\n",
        "    drop_out = Dropout(0.2)(dense_layer)\n",
        "    output = Dense(1, activation= \"sigmoid\")(drop_out)\n",
        "    model = Model(inp, output)\n",
        "    callbacks = [ReduceLROnPlateau(monitor='val_loss', patience=4, verbose=1, factor=0.6),\n",
        "                 EarlyStopping(monitor='val_loss', patience=20),\n",
        "                 ModelCheckpoint(filepath='best_model_LSTM.h5', monitor='val_loss', save_best_only=True)]\n",
        "    model.summary()\n",
        "    model.compile(loss=\"binary_crossentropy\", optimizer=\"adam\")\n",
        "    history = model.fit(train_x, train_y, \n",
        "          epochs = 10, \n",
        "          batch_size = 128, \n",
        "          validation_data=(test_x,  test_y), \n",
        "          callbacks=callbacks)\n",
        "    return history,model"
      ],
      "execution_count": 48,
      "outputs": []
    },
    {
      "cell_type": "code",
      "metadata": {
        "id": "sx_vWnhg800U"
      },
      "source": [
        "def plot_Loss(history):\n",
        "    plt.plot(history.history['loss'])\n",
        "    plt.plot(history.history['val_loss'])\n",
        "    plt.title('Loss over epochs')\n",
        "    plt.ylabel('Loss')\n",
        "    plt.xlabel('Epoch')\n",
        "    plt.legend(['Train', 'Validation'], loc='best')\n",
        "    plt.show()"
      ],
      "execution_count": 49,
      "outputs": []
    },
    {
      "cell_type": "code",
      "metadata": {
        "colab": {
          "base_uri": "https://localhost:8080/"
        },
        "id": "ZjiqmaOY84ap",
        "outputId": "a5b16fc1-21fc-4642-9945-db9d31ea11c9"
      },
      "source": [
        "history_LSTM,Lstm_model = build_Lstm_model(X_train_SS,y_train_SS,X_test_SS,y_test_SS)"
      ],
      "execution_count": 50,
      "outputs": [
        {
          "output_type": "stream",
          "name": "stdout",
          "text": [
            "Model: \"model\"\n",
            "_________________________________________________________________\n",
            " Layer (type)                Output Shape              Param #   \n",
            "=================================================================\n",
            " input_1 (InputLayer)        [(None, 7, 1)]            0         \n",
            "                                                                 \n",
            " lstm (LSTM)                 (None, 7, 60)             14880     \n",
            "                                                                 \n",
            " lstm_1 (LSTM)               (None, 60)                29040     \n",
            "                                                                 \n",
            " dense (Dense)               (None, 128)               7808      \n",
            "                                                                 \n",
            " dropout (Dropout)           (None, 128)               0         \n",
            "                                                                 \n",
            " dense_1 (Dense)             (None, 1)                 129       \n",
            "                                                                 \n",
            "=================================================================\n",
            "Total params: 51,857\n",
            "Trainable params: 51,857\n",
            "Non-trainable params: 0\n",
            "_________________________________________________________________\n",
            "Epoch 1/10\n",
            "1309/1309 [==============================] - 41s 28ms/step - loss: 0.4747 - val_loss: 0.4369 - lr: 0.0010\n",
            "Epoch 2/10\n",
            "1309/1309 [==============================] - 35s 27ms/step - loss: 0.4312 - val_loss: 0.4177 - lr: 0.0010\n",
            "Epoch 3/10\n",
            "1309/1309 [==============================] - 34s 26ms/step - loss: 0.4230 - val_loss: 0.4218 - lr: 0.0010\n",
            "Epoch 4/10\n",
            "1309/1309 [==============================] - 35s 27ms/step - loss: 0.4183 - val_loss: 0.4082 - lr: 0.0010\n",
            "Epoch 5/10\n",
            "1309/1309 [==============================] - 35s 27ms/step - loss: 0.4151 - val_loss: 0.4163 - lr: 0.0010\n",
            "Epoch 6/10\n",
            "1309/1309 [==============================] - 34s 26ms/step - loss: 0.4131 - val_loss: 0.4046 - lr: 0.0010\n",
            "Epoch 7/10\n",
            "1309/1309 [==============================] - 34s 26ms/step - loss: 0.4122 - val_loss: 0.4045 - lr: 0.0010\n",
            "Epoch 8/10\n",
            "1309/1309 [==============================] - 34s 26ms/step - loss: 0.4104 - val_loss: 0.4071 - lr: 0.0010\n",
            "Epoch 9/10\n",
            "1309/1309 [==============================] - 35s 27ms/step - loss: 0.4096 - val_loss: 0.4034 - lr: 0.0010\n",
            "Epoch 10/10\n",
            "1309/1309 [==============================] - 34s 26ms/step - loss: 0.4092 - val_loss: 0.4051 - lr: 0.0010\n"
          ]
        }
      ]
    },
    {
      "cell_type": "code",
      "metadata": {
        "colab": {
          "base_uri": "https://localhost:8080/",
          "height": 301
        },
        "id": "IyNIQRLM-g-W",
        "outputId": "41180da9-097a-4a86-8196-58915f5fbef4"
      },
      "source": [
        "plot_Loss(history_LSTM)"
      ],
      "execution_count": 51,
      "outputs": [
        {
          "output_type": "display_data",
          "data": {
            "image/png": "[encoded data removed]",
            "text/plain": [
              "<Figure size 432x288 with 1 Axes>"
            ]
          },
          "metadata": {}
        }
      ]
    },
    {
      "cell_type": "markdown",
      "metadata": {
        "id": "FKoWB3v9Yc8A"
      },
      "source": [
        "##**Saving model**"
      ]
    },
    {
      "cell_type": "code",
      "metadata": {
        "id": "FLn8U7gl-m-K"
      },
      "source": [
        "Lstm_model.save(\"LSTM_Higgs_model.h5\")"
      ],
      "execution_count": 52,
      "outputs": []
    },
    {
      "cell_type": "code",
      "metadata": {
        "id": "Gsioh4jTZvcL"
      },
      "source": [
        "x_predict=[105.457000,\t60.526,\t75.839,\t39.757,\t2.403735,\t371.78336,\t-0.821688]"
      ],
      "execution_count": 54,
      "outputs": []
    },
    {
      "cell_type": "code",
      "metadata": {
        "id": "UF-mqHtIZ6S0"
      },
      "source": [
        "x_predict=np.array(x_predict)"
      ],
      "execution_count": 55,
      "outputs": []
    },
    {
      "cell_type": "code",
      "metadata": {
        "id": "Q5UgRA50Z_0n"
      },
      "source": [
        "df = pd.DataFrame(x_predict)"
      ],
      "execution_count": 56,
      "outputs": []
    },
    {
      "cell_type": "code",
      "metadata": {
        "id": "KrWiWIXuaD3n"
      },
      "source": [
        "df = df.to_numpy()"
      ],
      "execution_count": 57,
      "outputs": []
    },
    {
      "cell_type": "code",
      "metadata": {
        "id": "Op580RJmaHv1"
      },
      "source": [
        "df1=df.reshape(1,df.shape[0],df.shape[1])"
      ],
      "execution_count": 58,
      "outputs": []
    },
    {
      "cell_type": "code",
      "metadata": {
        "colab": {
          "base_uri": "https://localhost:8080/"
        },
        "id": "uP7xqQEuaLg0",
        "outputId": "14a8f56a-d986-4fbf-9023-6259e1a24c6a"
      },
      "source": [
        "df1.shape"
      ],
      "execution_count": 59,
      "outputs": [
        {
          "output_type": "execute_result",
          "data": {
            "text/plain": [
              "(1, 7, 1)"
            ]
          },
          "metadata": {},
          "execution_count": 59
        }
      ]
    },
    {
      "cell_type": "code",
      "metadata": {
        "colab": {
          "base_uri": "https://localhost:8080/"
        },
        "id": "y6MpzMf5aPnn",
        "outputId": "8bfa844f-e11b-4efc-b72c-0c40e48fe435"
      },
      "source": [
        "Lstm_model.predict(df1)"
      ],
      "execution_count": 60,
      "outputs": [
        {
          "output_type": "execute_result",
          "data": {
            "text/plain": [
              "array([[0.24709365]], dtype=float32)"
            ]
          },
          "metadata": {},
          "execution_count": 60
        }
      ]
    },
    {
      "cell_type": "code",
      "metadata": {
        "id": "zm19L1DTaTtm"
      },
      "source": [
        "def prediction(model,input):\n",
        "    input= np.array(input)\n",
        "    prediction = model.predict(input)\n",
        "    return 'b' if prediction[0][0] >= 0.5 else 's'"
      ],
      "execution_count": 61,
      "outputs": []
    },
    {
      "cell_type": "code",
      "metadata": {
        "colab": {
          "base_uri": "https://localhost:8080/",
          "height": 730
        },
        "id": "a0NKuprzaZN9",
        "outputId": "a58373f6-f51c-4649-85ae-ba27399145cc"
      },
      "source": [
        "prediction (,x_predict) "
      ],
      "execution_count": 63,
      "outputs": [
        {
          "output_type": "stream",
          "name": "stdout",
          "text": [
            "WARNING:tensorflow:Model was constructed with shape (None, 7, 1) for input KerasTensor(type_spec=TensorSpec(shape=(None, 7, 1), dtype=tf.float32, name='input_1'), name='input_1', description=\"created by layer 'input_1'\"), but it was called on an input with incompatible shape (None,).\n"
          ]
        },
        {
          "output_type": "error",
          "ename": "ValueError",
          "evalue": "ignored",
          "traceback": [
            "\u001b[0;31m---------------------------------------------------------------------------\u001b[0m",
            "\u001b[0;31mValueError\u001b[0m                                Traceback (most recent call last)",
            "\u001b[0;32m<ipython-input-63-4ddd0b03581e>\u001b[0m in \u001b[0;36m<module>\u001b[0;34m()\u001b[0m\n\u001b[0;32m----> 1\u001b[0;31m \u001b[0mprediction\u001b[0m \u001b[0;34m(\u001b[0m\u001b[0mLstm_model\u001b[0m\u001b[0;34m,\u001b[0m\u001b[0mx_predict\u001b[0m\u001b[0;34m)\u001b[0m\u001b[0;34m\u001b[0m\u001b[0;34m\u001b[0m\u001b[0m\n\u001b[0m",
            "\u001b[0;32m<ipython-input-61-23e83137165c>\u001b[0m in \u001b[0;36mprediction\u001b[0;34m(model, input)\u001b[0m\n\u001b[1;32m      1\u001b[0m \u001b[0;32mdef\u001b[0m \u001b[0mprediction\u001b[0m\u001b[0;34m(\u001b[0m\u001b[0mmodel\u001b[0m\u001b[0;34m,\u001b[0m\u001b[0minput\u001b[0m\u001b[0;34m)\u001b[0m\u001b[0;34m:\u001b[0m\u001b[0;34m\u001b[0m\u001b[0;34m\u001b[0m\u001b[0m\n\u001b[1;32m      2\u001b[0m     \u001b[0minput\u001b[0m\u001b[0;34m=\u001b[0m \u001b[0mnp\u001b[0m\u001b[0;34m.\u001b[0m\u001b[0marray\u001b[0m\u001b[0;34m(\u001b[0m\u001b[0minput\u001b[0m\u001b[0;34m)\u001b[0m\u001b[0;34m\u001b[0m\u001b[0;34m\u001b[0m\u001b[0m\n\u001b[0;32m----> 3\u001b[0;31m     \u001b[0mprediction\u001b[0m \u001b[0;34m=\u001b[0m \u001b[0mmodel\u001b[0m\u001b[0;34m.\u001b[0m\u001b[0mpredict\u001b[0m\u001b[0;34m(\u001b[0m\u001b[0minput\u001b[0m\u001b[0;34m)\u001b[0m\u001b[0;34m\u001b[0m\u001b[0;34m\u001b[0m\u001b[0m\n\u001b[0m\u001b[1;32m      4\u001b[0m     \u001b[0;32mreturn\u001b[0m \u001b[0;34m'b'\u001b[0m \u001b[0;32mif\u001b[0m \u001b[0mprediction\u001b[0m\u001b[0;34m[\u001b[0m\u001b[0;36m0\u001b[0m\u001b[0;34m]\u001b[0m\u001b[0;34m[\u001b[0m\u001b[0;36m0\u001b[0m\u001b[0;34m]\u001b[0m \u001b[0;34m>=\u001b[0m \u001b[0;36m0.5\u001b[0m \u001b[0;32melse\u001b[0m \u001b[0;34m's'\u001b[0m\u001b[0;34m\u001b[0m\u001b[0;34m\u001b[0m\u001b[0m\n",
            "\u001b[0;32m/usr/local/lib/python3.7/dist-packages/keras/utils/traceback_utils.py\u001b[0m in \u001b[0;36merror_handler\u001b[0;34m(*args, **kwargs)\u001b[0m\n\u001b[1;32m     65\u001b[0m     \u001b[0;32mexcept\u001b[0m \u001b[0mException\u001b[0m \u001b[0;32mas\u001b[0m \u001b[0me\u001b[0m\u001b[0;34m:\u001b[0m  \u001b[0;31m# pylint: disable=broad-except\u001b[0m\u001b[0;34m\u001b[0m\u001b[0;34m\u001b[0m\u001b[0m\n\u001b[1;32m     66\u001b[0m       \u001b[0mfiltered_tb\u001b[0m \u001b[0;34m=\u001b[0m \u001b[0m_process_traceback_frames\u001b[0m\u001b[0;34m(\u001b[0m\u001b[0me\u001b[0m\u001b[0;34m.\u001b[0m\u001b[0m__traceback__\u001b[0m\u001b[0;34m)\u001b[0m\u001b[0;34m\u001b[0m\u001b[0;34m\u001b[0m\u001b[0m\n\u001b[0;32m---> 67\u001b[0;31m       \u001b[0;32mraise\u001b[0m \u001b[0me\u001b[0m\u001b[0;34m.\u001b[0m\u001b[0mwith_traceback\u001b[0m\u001b[0;34m(\u001b[0m\u001b[0mfiltered_tb\u001b[0m\u001b[0;34m)\u001b[0m \u001b[0;32mfrom\u001b[0m \u001b[0;32mNone\u001b[0m\u001b[0;34m\u001b[0m\u001b[0;34m\u001b[0m\u001b[0m\n\u001b[0m\u001b[1;32m     68\u001b[0m     \u001b[0;32mfinally\u001b[0m\u001b[0;34m:\u001b[0m\u001b[0;34m\u001b[0m\u001b[0;34m\u001b[0m\u001b[0m\n\u001b[1;32m     69\u001b[0m       \u001b[0;32mdel\u001b[0m \u001b[0mfiltered_tb\u001b[0m\u001b[0;34m\u001b[0m\u001b[0;34m\u001b[0m\u001b[0m\n",
            "\u001b[0;32m/usr/local/lib/python3.7/dist-packages/tensorflow/python/framework/func_graph.py\u001b[0m in \u001b[0;36mautograph_handler\u001b[0;34m(*args, **kwargs)\u001b[0m\n\u001b[1;32m   1127\u001b[0m           \u001b[0;32mexcept\u001b[0m \u001b[0mException\u001b[0m \u001b[0;32mas\u001b[0m \u001b[0me\u001b[0m\u001b[0;34m:\u001b[0m  \u001b[0;31m# pylint:disable=broad-except\u001b[0m\u001b[0;34m\u001b[0m\u001b[0;34m\u001b[0m\u001b[0m\n\u001b[1;32m   1128\u001b[0m             \u001b[0;32mif\u001b[0m \u001b[0mhasattr\u001b[0m\u001b[0;34m(\u001b[0m\u001b[0me\u001b[0m\u001b[0;34m,\u001b[0m \u001b[0;34m\"ag_error_metadata\"\u001b[0m\u001b[0;34m)\u001b[0m\u001b[0;34m:\u001b[0m\u001b[0;34m\u001b[0m\u001b[0;34m\u001b[0m\u001b[0m\n\u001b[0;32m-> 1129\u001b[0;31m               \u001b[0;32mraise\u001b[0m \u001b[0me\u001b[0m\u001b[0;34m.\u001b[0m\u001b[0mag_error_metadata\u001b[0m\u001b[0;34m.\u001b[0m\u001b[0mto_exception\u001b[0m\u001b[0;34m(\u001b[0m\u001b[0me\u001b[0m\u001b[0;34m)\u001b[0m\u001b[0;34m\u001b[0m\u001b[0;34m\u001b[0m\u001b[0m\n\u001b[0m\u001b[1;32m   1130\u001b[0m             \u001b[0;32melse\u001b[0m\u001b[0;34m:\u001b[0m\u001b[0;34m\u001b[0m\u001b[0;34m\u001b[0m\u001b[0m\n\u001b[1;32m   1131\u001b[0m               \u001b[0;32mraise\u001b[0m\u001b[0;34m\u001b[0m\u001b[0;34m\u001b[0m\u001b[0m\n",
            "\u001b[0;31mValueError\u001b[0m: in user code:\n\n    File \"/usr/local/lib/python3.7/dist-packages/keras/engine/training.py\", line 1621, in predict_function  *\n        return step_function(self, iterator)\n    File \"/usr/local/lib/python3.7/dist-packages/keras/engine/training.py\", line 1611, in step_function  **\n        outputs = model.distribute_strategy.run(run_step, args=(data,))\n    File \"/usr/local/lib/python3.7/dist-packages/keras/engine/training.py\", line 1604, in run_step  **\n        outputs = model.predict_step(data)\n    File \"/usr/local/lib/python3.7/dist-packages/keras/engine/training.py\", line 1572, in predict_step\n        return self(x, training=False)\n    File \"/usr/local/lib/python3.7/dist-packages/keras/utils/traceback_utils.py\", line 67, in error_handler\n        raise e.with_traceback(filtered_tb) from None\n    File \"/usr/local/lib/python3.7/dist-packages/keras/engine/input_spec.py\", line 213, in assert_input_compatibility\n        raise ValueError(f'Input {input_index} of layer \"{layer_name}\" '\n\n    ValueError: Exception encountered when calling layer \"model\" (type Functional).\n    \n    Input 0 of layer \"lstm\" is incompatible with the layer: expected ndim=3, found ndim=1. Full shape received: (None,)\n    \n    Call arguments received:\n      • inputs=tf.Tensor(shape=(None,), dtype=float32)\n      • training=False\n      • mask=None\n"
          ]
        }
      ]
    }
  ]
}